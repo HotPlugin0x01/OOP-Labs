{
 "cells": [
  {
   "cell_type": "code",
   "execution_count": 1,
   "metadata": {
    "ExecuteTime": {
     "end_time": "2020-07-20T14:17:47.669255Z",
     "start_time": "2020-07-20T14:17:47.645253Z"
    }
   },
   "outputs": [
    {
     "name": "stdout",
     "output_type": "stream",
     "text": [
      "Pattern found inside the string\n"
     ]
    }
   ],
   "source": [
    "# Exercise 01\n",
    "import re\n",
    "string = \"Python is fun\"\n",
    "match = re.search('^Python', string)\n",
    "if match:\n",
    "    print(\"Pattern found inside the string\")\n",
    "else:\n",
    "    print(\"Pattern not found\")"
   ]
  },
  {
   "cell_type": "code",
   "execution_count": 2,
   "metadata": {
    "ExecuteTime": {
     "end_time": "2020-07-20T14:17:47.869268Z",
     "start_time": "2020-07-20T14:17:47.669255Z"
    }
   },
   "outputs": [
    {
     "name": "stdout",
     "output_type": "stream",
     "text": [
      "['Sp']\n"
     ]
    }
   ],
   "source": [
    "# Exercise 02\n",
    "import re\n",
    "str = \" The rain in Spain\"\n",
    "x = re.findall(\"Sp\", str)\n",
    "print(x)"
   ]
  },
  {
   "cell_type": "code",
   "execution_count": 3,
   "metadata": {
    "ExecuteTime": {
     "end_time": "2020-07-20T14:17:47.997325Z",
     "start_time": "2020-07-20T14:17:47.869268Z"
    },
    "scrolled": true
   },
   "outputs": [
    {
     "name": "stdout",
     "output_type": "stream",
     "text": [
      "['0312344', '1245669']\n"
     ]
    }
   ],
   "source": [
    "# Exercise 03\n",
    "import re\n",
    "string = 'hello, my phone numbers are 0312344 and 1245669'\n",
    "pattern = '\\d+'\n",
    "result = re.findall(pattern, string)\n",
    "print(result)"
   ]
  },
  {
   "cell_type": "code",
   "execution_count": 4,
   "metadata": {
    "ExecuteTime": {
     "end_time": "2020-07-20T14:17:48.109286Z",
     "start_time": "2020-07-20T14:17:48.005281Z"
    }
   },
   "outputs": [
    {
     "name": "stdout",
     "output_type": "stream",
     "text": [
      "['Sixty Nine:69', ' Eighty nine:89']\n"
     ]
    }
   ],
   "source": [
    "# Exercise 04\n",
    "import re\n",
    "string = 'Sixty Nine:69, Eighty nine:89'\n",
    "pattern = ','\n",
    "result = re.split(pattern, string)\n",
    "print(result)"
   ]
  },
  {
   "cell_type": "code",
   "execution_count": 5,
   "metadata": {
    "ExecuteTime": {
     "end_time": "2020-07-20T14:17:48.253908Z",
     "start_time": "2020-07-20T14:17:48.109286Z"
    }
   },
   "outputs": [
    {
     "name": "stdout",
     "output_type": "stream",
     "text": [
      "abc xyz\\ de xyz \n",
      " fxyz xyz\n"
     ]
    }
   ],
   "source": [
    "# Exercise 05\n",
    "import re\n",
    "string = 'abc 12\\ de 23 \\n f45 6'\n",
    "pattern = '\\d+'\n",
    "replace = 'xyz'\n",
    "new_string = re.sub(pattern, replace, string)\n",
    "print(new_string)"
   ]
  },
  {
   "cell_type": "code",
   "execution_count": 6,
   "metadata": {
    "ExecuteTime": {
     "end_time": "2020-07-20T14:17:48.373913Z",
     "start_time": "2020-07-20T14:17:48.261908Z"
    }
   },
   "outputs": [],
   "source": [
    "# Task 01\n",
    "# Creating and writing file\n",
    "contacts = ['030212356','031312455','032262346','034242543','035262346',\n",
    "           '030112373','031312452','032267367','034246869','035262278']\n",
    "with open('contacts.txt','w+') as file:\n",
    "    for x in contacts:\n",
    "        file.write(x + ', ')"
   ]
  },
  {
   "cell_type": "code",
   "execution_count": 7,
   "metadata": {
    "ExecuteTime": {
     "end_time": "2020-07-20T14:17:48.493968Z",
     "start_time": "2020-07-20T14:17:48.373913Z"
    }
   },
   "outputs": [
    {
     "name": "stdout",
     "output_type": "stream",
     "text": [
      "030212356  Mobilink  1\n",
      "030112373  Mobilink  2\n",
      "031312455  Zong  1\n",
      "031312452  Zong  2\n",
      "032262346  Warid  1\n",
      "032267367  Warid  2\n",
      "034242543  Telenor  1\n",
      "034246869  Telenor  2\n",
      "----------------------\n",
      "Mobilink Users: 2\n",
      "Zong Users: 2\n",
      "Warid Users: 2\n",
      "Ufone Users: 0\n",
      "Telenor Users: 2\n",
      "SCOM Users: 0\n",
      "Instaphone Users: 0\n",
      "---------------------- \n",
      "Total Users:  8\n"
     ]
    }
   ],
   "source": [
    "import re\n",
    "# Definig Function\n",
    "def networkDetails(filename):\n",
    "    # Reading File\n",
    "    with open(filename) as file:\n",
    "        data = file.read()\n",
    "\n",
    "        # Searching Patterns\n",
    "        jazz = re.findall(\"030[0-9]\\w+\", data)\n",
    "        zong = re.findall(\"031[0-5]\\w+\", data)\n",
    "        warid = re.findall(\"032[0-5]\\w+\", data)\n",
    "        ufone = re.findall(\"033[0-7]\\w+\", data)\n",
    "        telenor = re.findall(\"034[0-7]\\w+\",data)\n",
    "        scom = re.findall(\"0355\\w+\", data)\n",
    "        instaphone = re.findall(\"0364\\w+\", data)\n",
    "\n",
    "        networks = ('Mobilink', 'Zong', 'Warid', 'Ufone', 'Telenor', 'SCOM', 'Instaphone')\n",
    "        contacts = [jazz, zong, warid, ufone, telenor, scom, instaphone]\n",
    "        total = 0\n",
    "\n",
    "        # Looping throgh contacts\n",
    "        for num,name in zip(contacts, networks):\n",
    "            count = 0\n",
    "            for n in num:\n",
    "                count += 1\n",
    "                total += 1\n",
    "                print('{}  {}  {}'.format(n, name, count))\n",
    "\n",
    "        print('-' * 22)\n",
    "        for num, name in zip(contacts, networks):\n",
    "            print('{} Users: {}'.format(name, len(num)))\n",
    "        print('-' * 22, '\\nTotal Users: ', total)\n",
    "        \n",
    "# Calling Function\n",
    "networkDetails('contacts.txt')"
   ]
  }
 ],
 "metadata": {
  "kernelspec": {
   "display_name": "Python 3",
   "language": "python",
   "name": "python3"
  },
  "language_info": {
   "codemirror_mode": {
    "name": "ipython",
    "version": 3
   },
   "file_extension": ".py",
   "mimetype": "text/x-python",
   "name": "python",
   "nbconvert_exporter": "python",
   "pygments_lexer": "ipython3",
   "version": "3.7.6"
  },
  "varInspector": {
   "cols": {
    "lenName": 16,
    "lenType": 16,
    "lenVar": 40
   },
   "kernels_config": {
    "python": {
     "delete_cmd_postfix": "",
     "delete_cmd_prefix": "del ",
     "library": "var_list.py",
     "varRefreshCmd": "print(var_dic_list())"
    },
    "r": {
     "delete_cmd_postfix": ") ",
     "delete_cmd_prefix": "rm(",
     "library": "var_list.r",
     "varRefreshCmd": "cat(var_dic_list()) "
    }
   },
   "types_to_exclude": [
    "module",
    "function",
    "builtin_function_or_method",
    "instance",
    "_Feature"
   ],
   "window_display": false
  }
 },
 "nbformat": 4,
 "nbformat_minor": 4
}
