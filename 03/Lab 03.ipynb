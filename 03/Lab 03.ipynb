{
 "cells": [
  {
   "cell_type": "code",
   "execution_count": 36,
   "metadata": {
    "ExecuteTime": {
     "end_time": "2020-06-05T18:49:14.091105Z",
     "start_time": "2020-06-05T18:49:14.075098Z"
    }
   },
   "outputs": [
    {
     "name": "stdout",
     "output_type": "stream",
     "text": [
      "Abdul Wasay 18\n",
      "Ahmed 19\n"
     ]
    }
   ],
   "source": [
    "# Example 01 \n",
    "class Person:\n",
    "    def __init__(self, name, age):\n",
    "        self.name = name\n",
    "        self.age = age\n",
    "\n",
    "person1= Person(\"Abdul Wasay\", 18)\n",
    "print(person1.name, person1.age)\n",
    "\n",
    "person2 = Person(\"Ahmed\", 19)\n",
    "print(person2.name,person2.age)"
   ]
  },
  {
   "cell_type": "code",
   "execution_count": 37,
   "metadata": {
    "ExecuteTime": {
     "end_time": "2020-06-05T18:49:25.629408Z",
     "start_time": "2020-06-05T18:49:25.613387Z"
    }
   },
   "outputs": [
    {
     "name": "stdout",
     "output_type": "stream",
     "text": [
      "Hello my name is Ali\n"
     ]
    }
   ],
   "source": [
    "# Example 02\n",
    "class Person:\n",
    "    def __init__(self, name, age):\n",
    "        self.name = name\n",
    "        self.age = age\n",
    "\n",
    "    def description(self):\n",
    "        print(\"Hello my name is \" + self.name)\n",
    "\n",
    "p1 = Person(\"Ali\", 36)\n",
    "p1.description()"
   ]
  },
  {
   "cell_type": "code",
   "execution_count": 1,
   "metadata": {
    "ExecuteTime": {
     "end_time": "2020-06-05T20:03:49.730158Z",
     "start_time": "2020-06-05T20:03:49.714159Z"
    }
   },
   "outputs": [
    {
     "name": "stdout",
     "output_type": "stream",
     "text": [
      "Haziq 40\n",
      "\tEmployee Data\n",
      "Name Haziq\n",
      "Age 40\n",
      "Post Senior\n"
     ]
    }
   ],
   "source": [
    "# Example 03\n",
    "class Person:\n",
    "    def __init__(self, name, age):\n",
    "        self.name = name\n",
    "        self.age = age\n",
    "    \n",
    "    def print_details(self):\n",
    "        print(self.name, self.age)\n",
    "\n",
    "class Employee(Person):\n",
    "    def __init__(self, name, age, post):\n",
    "        self.post = post\n",
    "        Person.__init__(self, name, age)\n",
    "    \n",
    "    def details(self):\n",
    "        print(f'\\tEmployee Data\\nName {self.name}\\nAge {self.age}\\nPost {self.post}')\n",
    "        \n",
    "ob1 = Employee('Haziq', 40, 'Senior')\n",
    "ob1.print_details()\n",
    "ob1.details()"
   ]
  },
  {
   "cell_type": "code",
   "execution_count": 39,
   "metadata": {
    "ExecuteTime": {
     "end_time": "2020-06-05T18:50:09.849693Z",
     "start_time": "2020-06-05T18:50:09.825690Z"
    }
   },
   "outputs": [],
   "source": [
    "# Task 02\n",
    "class Plot:\n",
    "    def __init__(self, location, rooms, parking, price):\n",
    "        self.location = location\n",
    "        self.rooms = rooms\n",
    "        self.parking = parking\n",
    "        self.price = price\n",
    "        \n",
    "class Townhouse(Plot):\n",
    "    def __init__(self,location, rooms, parking, price):\n",
    "        Plot.__init__(self, location, rooms, parking, price)\n",
    "    \n",
    "    def details_of_Townhouse(self):\n",
    "        print(\"The location of townhouse is:\", self.location)\n",
    "        print(\"The number rooms of townhouse is:\", self.rooms)\n",
    "        print(\"The parking of townhouse is:\", self.parking)\n",
    "        print(\"The price of townhouse is:\", self.price)\n",
    "      \n",
    "class Condominium(Plot):\n",
    "    def __init__(self, location, rooms, parking, price):\n",
    "        Plot.__init__(self, location, rooms, parking, price)\n",
    "        \n",
    "    def details_of_Condominium(self):\n",
    "        print(\"The location of Condominium is:\", self.location)\n",
    "        print(\"The number rooms of Condominium is:\", self.rooms)\n",
    "        print(\"The parking of Condominium is:\", self.parking)\n",
    "        print(\"The price of Condominium is:\", self.price)"
   ]
  },
  {
   "cell_type": "code",
   "execution_count": 50,
   "metadata": {
    "ExecuteTime": {
     "end_time": "2020-06-05T18:51:54.309771Z",
     "start_time": "2020-06-05T18:51:54.293767Z"
    }
   },
   "outputs": [
    {
     "name": "stdout",
     "output_type": "stream",
     "text": [
      "The location of townhouse is: Karachi\n",
      "The number rooms of townhouse is: 12 rooms\n",
      "The parking of townhouse is: Parking available\n",
      "The price of townhouse is: 10 lac\n"
     ]
    }
   ],
   "source": [
    "house1 = Townhouse(\"Karachi\",\"12 rooms\",\"Parking available\",\"10 lac\")\n",
    "house1.details_of_Townhouse()"
   ]
  },
  {
   "cell_type": "code",
   "execution_count": 49,
   "metadata": {
    "ExecuteTime": {
     "end_time": "2020-06-05T18:51:45.602132Z",
     "start_time": "2020-06-05T18:51:45.586128Z"
    }
   },
   "outputs": [
    {
     "name": "stdout",
     "output_type": "stream",
     "text": [
      "The location of Condominium is: Karachi\n",
      "The number rooms of Condominium is: 12 rooms\n",
      "The parking of Condominium is: Parking available\n",
      "The price of Condominium is: 10 lac\n"
     ]
    }
   ],
   "source": [
    "house2 = Condominium(\"Karachi\",\"12 rooms\",\"Parking available\",\"10 lac\")\n",
    "house2.details_of_Condominium()"
   ]
  },
  {
   "cell_type": "code",
   "execution_count": 42,
   "metadata": {
    "ExecuteTime": {
     "end_time": "2020-06-05T18:50:41.463486Z",
     "start_time": "2020-06-05T18:50:41.439477Z"
    }
   },
   "outputs": [],
   "source": [
    "# Task 03\n",
    "class Vehicles:  \n",
    "    def __init__(self, model, color, price):\n",
    "        self.model = model\n",
    "        self.color = color\n",
    "        self.price = price\n",
    "        \n",
    "class Audi(Vehicles):\n",
    "    def __init__(self, model, color, price, types, reg_year):\n",
    "        self.types = types\n",
    "        self.reg_year = reg_year\n",
    "        Vehicles.__init__(self, model, color, price)\n",
    "        \n",
    "    def details_of_Audi(self):\n",
    "        print(\"The model of Audi is:\", self.model)\n",
    "        print(\"The color of Audi is:\", self.color)\n",
    "        print(\"The price of Audi is:\", self.price)\n",
    "        print(\"The type of Audi is:\", self.types)\n",
    "        print(\"This model of Audi is registered in:\", self.reg_year)\n",
    "        \n",
    "class Mercedes(Vehicles):\n",
    "    def __init__(self, model, color, price, types, reg_year):\n",
    "        self.types = types\n",
    "        self.reg_year = reg_year\n",
    "        Vehicles.__init__(self, model, color, price)\n",
    "\n",
    "        \n",
    "    def details_of_Mercedes(self):\n",
    "        print(\"The model of Mercedes is:\", self.model)\n",
    "        print(\"The color of Mercedes is:\", self.color)\n",
    "        print(\"The price of Mercedes is:\", self.price)\n",
    "        print(\"The type of Mercedes:\", self.types)\n",
    "        print(\"This model of Mercedes is registered in:\", self.reg_year)\n",
    "              \n",
    "class BMW(Vehicles):\n",
    "    def __init__(self, model, color, price, types, reg_year):\n",
    "        self.types = types\n",
    "        self.reg_year = reg_year\n",
    "        Vehicles.__init__(self, model, color, price)\n",
    "        \n",
    "    def details_of_BMW(self):\n",
    "        print(\"The model of BMW is:\", self.model)\n",
    "        print(\"The color of BMW is:\", self.color)\n",
    "        print(\"The price of BMW is:\", self.price)\n",
    "        print(\"The type of BMW:\", self.types)\n",
    "        print(\"This model of BMW is registered in:\", self.reg_year)"
   ]
  },
  {
   "cell_type": "code",
   "execution_count": 48,
   "metadata": {
    "ExecuteTime": {
     "end_time": "2020-06-05T18:51:34.278847Z",
     "start_time": "2020-06-05T18:51:34.262845Z"
    }
   },
   "outputs": [
    {
     "name": "stdout",
     "output_type": "stream",
     "text": [
      "The model of Audi is: 2020 A3 Sedan\n",
      "The color of Audi is: Black\n",
      "The price of Audi is: 90 lac\n",
      "The type of Audi is: Luxury\n",
      "This model of Audi is registered in: 2020\n"
     ]
    }
   ],
   "source": [
    "vehicle1 = Audi(\"2020 A3 Sedan\",\"Black\",\"90 lac\",\"Luxury\",\"2020\")\n",
    "vehicle1.details_of_Audi()"
   ]
  },
  {
   "cell_type": "code",
   "execution_count": 44,
   "metadata": {
    "ExecuteTime": {
     "end_time": "2020-06-05T18:50:48.991801Z",
     "start_time": "2020-06-05T18:50:48.983802Z"
    }
   },
   "outputs": [
    {
     "name": "stdout",
     "output_type": "stream",
     "text": [
      "The model of Mercedes is: Mercedes-AMG C 63\n",
      "The color of Mercedes is: Yellow and Orange\n",
      "The price of Mercedes is: 45 lac\n",
      "The type of Mercedes: sports\n",
      "This model of Mercedes is registered in: 2014\n"
     ]
    }
   ],
   "source": [
    "vehicle2 = Mercedes(\"Mercedes-AMG C 63\",\"Yellow and Orange\",\"45 lac\",\"sports\",\"2014\")\n",
    "vehicle2.details_of_Mercedes()"
   ]
  },
  {
   "cell_type": "code",
   "execution_count": 45,
   "metadata": {
    "ExecuteTime": {
     "end_time": "2020-06-05T18:50:49.455832Z",
     "start_time": "2020-06-05T18:50:49.439835Z"
    }
   },
   "outputs": [
    {
     "name": "stdout",
     "output_type": "stream",
     "text": [
      "The model of BMW is: BMW X4\n",
      "The color of BMW is: Red\n",
      "The price of BMW is: 50 lac\n",
      "The type of BMW: saloon\n",
      "This model of BMW is registered in: 2017\n"
     ]
    }
   ],
   "source": [
    "vehicle3 = BMW(\"BMW X4\",\"Red\",\"50 lac\",\"saloon\",\"2017\")\n",
    "vehicle3.details_of_BMW()"
   ]
  },
  {
   "cell_type": "code",
   "execution_count": 46,
   "metadata": {
    "ExecuteTime": {
     "end_time": "2020-06-05T18:51:03.560210Z",
     "start_time": "2020-06-05T18:51:03.528186Z"
    }
   },
   "outputs": [],
   "source": [
    "# Task 04\n",
    "class Apple:  \n",
    "    def __init__(self, name, color, price, ram, warranty, camera):\n",
    "        self.name =name\n",
    "        self.color = color\n",
    "        self.price = price\n",
    "        self.ram = ram\n",
    "        self.warranty = warranty\n",
    "        self.camera = camera\n",
    "        \n",
    "class Iphone11pro(Apple):\n",
    "    def __init__(self,name,color,price,ram,warranty,camera):\n",
    "        Apple.__init__(self, name, color, price, ram, warranty, camera)\n",
    "        \n",
    "    def details_of_Iphone11pro(self):\n",
    "        print(\"The name of device is:\", self.name)\n",
    "        print(\"The color of Iphone11pro is:\", self.color)\n",
    "        print(\"The price of Iphone11pro is:\", self.price)\n",
    "        print(\"The ram of Iphone11pro is:\", self.ram)\n",
    "        print(\"This warranty of Iphone11pro is:\", self.warranty)\n",
    "        print(\"The camera of Iphone11pro is:\", self.camera)\n",
    "        \n",
    "class IphoneXSmax(Apple):\n",
    "    def __init__(self,name,color,price,ram,warranty,camera):\n",
    "        Apple.__init__(self, name, color, price, ram, warranty, camera)\n",
    "        \n",
    "    def details_of_IphoneXSmax(self):\n",
    "        print(\"The name of device is:\", self.name)\n",
    "        print(\"The color of IphoneXSmax is:\", self.color)\n",
    "        print(\"The price of IphoneXSmax is:\", self.price)\n",
    "        print(\"The ram of IphoneXSmax is:\", self.ram)\n",
    "        print(\"This warranty of IphoneXSmax is:\", self.warranty)\n",
    "        print(\"The camera of IphoneXSmax is:\", self.camera)\n",
    "      \n",
    "class Iphone8plus(Apple):\n",
    "    def __init__(self,name,color,price,ram,warranty,camera):\n",
    "        Apple.__init__(self, name, color, price, ram, warranty, camera)\n",
    "    \n",
    "    def details_of_Iphone8plus(self):\n",
    "        print(\"The name of device is:\", self.name)\n",
    "        print(\"The color of Iphone8plus is:\", self.color)\n",
    "        print(\"The price of Iphone8plus is:\", self.price)\n",
    "        print(\"The ram of Iphone8plus is:\", self.ram)\n",
    "        print(\"This warranty of Iphone8plus is:\", self.warranty)\n",
    "        print(\"The camera of Iphone8plus is:\", self.camera)"
   ]
  },
  {
   "cell_type": "code",
   "execution_count": 47,
   "metadata": {
    "ExecuteTime": {
     "end_time": "2020-06-05T18:51:11.985833Z",
     "start_time": "2020-06-05T18:51:11.969829Z"
    }
   },
   "outputs": [
    {
     "name": "stdout",
     "output_type": "stream",
     "text": [
      "The name of device is: Iphone 11 pro\n",
      "The color of Iphone11pro is: Silver\n",
      "The price of Iphone11pro is: 1099$\n",
      "The ram of Iphone11pro is: 256 GB ram\n",
      "This warranty of Iphone11pro is: 90 days warranty\n",
      "The camera of Iphone11pro is: 12 MP\n"
     ]
    }
   ],
   "source": [
    "Device1 = Iphone11pro(\"Iphone 11 pro\",\"Silver\",\"1099$\",\"256 GB ram\",\"90 days warranty\",\"12 MP\")\n",
    "Device1.details_of_Iphone11pro()"
   ]
  },
  {
   "cell_type": "code",
   "execution_count": 34,
   "metadata": {
    "ExecuteTime": {
     "end_time": "2020-06-05T18:48:31.559232Z",
     "start_time": "2020-06-05T18:48:31.543209Z"
    }
   },
   "outputs": [
    {
     "name": "stdout",
     "output_type": "stream",
     "text": [
      "The name of device is: Iphone XS max\n",
      "The color of IphoneXSmax is: Golden\n",
      "The price of IphoneXSmax is: 799$\n",
      "The ram of IphoneXSmax is: 64 GB ram\n",
      "This warranty of IphoneXSmax is: 3 months warranty\n",
      "The camera of IphoneXSmax is: 10 MP\n"
     ]
    }
   ],
   "source": [
    "Device2 = IphoneXSmax(\"Iphone XS max\",\"Golden\",\"799$\",\"64 GB ram\",\"3 months warranty\",\"10 MP\")\n",
    "Device2.details_of_IphoneXSmax()"
   ]
  }
 ],
 "metadata": {
  "kernelspec": {
   "display_name": "Python 3",
   "language": "python",
   "name": "python3"
  },
  "language_info": {
   "codemirror_mode": {
    "name": "ipython",
    "version": 3
   },
   "file_extension": ".py",
   "mimetype": "text/x-python",
   "name": "python",
   "nbconvert_exporter": "python",
   "pygments_lexer": "ipython3",
   "version": "3.7.3"
  },
  "varInspector": {
   "cols": {
    "lenName": 16,
    "lenType": 16,
    "lenVar": 40
   },
   "kernels_config": {
    "python": {
     "delete_cmd_postfix": "",
     "delete_cmd_prefix": "del ",
     "library": "var_list.py",
     "varRefreshCmd": "print(var_dic_list())"
    },
    "r": {
     "delete_cmd_postfix": ") ",
     "delete_cmd_prefix": "rm(",
     "library": "var_list.r",
     "varRefreshCmd": "cat(var_dic_list()) "
    }
   },
   "types_to_exclude": [
    "module",
    "function",
    "builtin_function_or_method",
    "instance",
    "_Feature"
   ],
   "window_display": false
  }
 },
 "nbformat": 4,
 "nbformat_minor": 4
}
