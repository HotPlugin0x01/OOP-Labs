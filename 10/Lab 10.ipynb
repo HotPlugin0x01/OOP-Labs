{
 "cells": [
  {
   "cell_type": "code",
   "execution_count": 1,
   "metadata": {
    "ExecuteTime": {
     "end_time": "2020-07-18T18:08:34.344394Z",
     "start_time": "2020-07-18T18:08:34.325380Z"
    }
   },
   "outputs": [
    {
     "name": "stdout",
     "output_type": "stream",
     "text": [
      "Network is connect\n",
      "All Data is tranfser\n"
     ]
    }
   ],
   "source": [
    "# Exercise 01\n",
    "from abc import ABC, abstractmethod\n",
    "class NetworkInterface(ABC):\n",
    "    @abstractmethod\n",
    "    def connect(self):\n",
    "        pass\n",
    "    @abstractmethod\n",
    "    def transfer(self):\n",
    "        pass\n",
    "\n",
    "class RealNetwork(NetworkInterface):\n",
    "    def connect(self):\n",
    "        print(\"Network is connect\")\n",
    "    def transfer(self):\n",
    "        print(\"All Data is tranfser\")\n",
    "        \n",
    "R1= RealNetwork()\n",
    "R1.connect()\n",
    "R1.transfer()"
   ]
  },
  {
   "cell_type": "code",
   "execution_count": 2,
   "metadata": {
    "ExecuteTime": {
     "end_time": "2020-07-18T18:08:34.493122Z",
     "start_time": "2020-07-18T18:08:34.349399Z"
    }
   },
   "outputs": [
    {
     "name": "stdout",
     "output_type": "stream",
     "text": [
      "Network is connect\n",
      "All Data is tranfser\n",
      "Network is connect\n"
     ]
    }
   ],
   "source": [
    "# Exercise 02\n",
    "from abc import ABC, abstractmethod\n",
    "class NetworkInterface(ABC):\n",
    "    @abstractmethod\n",
    "    def connect(self):\n",
    "        pass\n",
    "    @abstractmethod\n",
    "    def transfer(self):\n",
    "        pass\n",
    "\n",
    "class RealNetwork(NetworkInterface):\n",
    "    def connect(self):\n",
    "        print(\"Network is connect\")\n",
    "    def transfer(self):\n",
    "        print(\"All Data is tranfser\")\n",
    "\n",
    "class FakeNetwork(NetworkInterface):\n",
    "    def connect(self):\n",
    "        print(\"Network is connect\")\n",
    "        \n",
    "    def transfer(self):\n",
    "        print(\"All Data is tranfser\")\n",
    "        \n",
    "R1= RealNetwork()\n",
    "R1.connect()\n",
    "R1.transfer()\n",
    "F1= FakeNetwork()\n",
    "F1.connect()"
   ]
  },
  {
   "cell_type": "code",
   "execution_count": 3,
   "metadata": {
    "ExecuteTime": {
     "end_time": "2020-07-18T18:08:34.682516Z",
     "start_time": "2020-07-18T18:08:34.499127Z"
    }
   },
   "outputs": [
    {
     "name": "stdout",
     "output_type": "stream",
     "text": [
      "Sum: (7, 6)\n"
     ]
    }
   ],
   "source": [
    "# Exercise 03\n",
    "class A:\n",
    "    def __init__(self, x,y):\n",
    "        self.x = x\n",
    "        self.y = y\n",
    "\n",
    "    def __add__(self, other):\n",
    "        x = self.x + other.x\n",
    "        y = self.y + other.y\n",
    "        return(x,y)\n",
    "\n",
    "c1 = A(5,3)\n",
    "c2 = A(2,3)\n",
    "print(\"Sum:\", c1+c2)"
   ]
  },
  {
   "cell_type": "code",
   "execution_count": 4,
   "metadata": {
    "ExecuteTime": {
     "end_time": "2020-07-18T18:08:34.839962Z",
     "start_time": "2020-07-18T18:08:34.693523Z"
    }
   },
   "outputs": [
    {
     "name": "stdout",
     "output_type": "stream",
     "text": [
      "Is c1 less than c2:  True\n"
     ]
    }
   ],
   "source": [
    "# Exercise 04\n",
    "class A:\n",
    "    def __init__(self, x):\n",
    "        self.x = x\n",
    "\n",
    "    def __lt__(self, other):\n",
    "        if self.x < other.y:\n",
    "            return True\n",
    "        else:\n",
    "            return False\n",
    "\n",
    "class B:\n",
    "    def __init__(self, y):\n",
    "        self.y = y\n",
    "        \n",
    "c1 = A(2)\n",
    "c2 = B(4)\n",
    "print(\"Is c1 less than c2: \",c1<c2)"
   ]
  },
  {
   "cell_type": "code",
   "execution_count": 5,
   "metadata": {
    "ExecuteTime": {
     "end_time": "2020-07-18T18:08:34.958188Z",
     "start_time": "2020-07-18T18:08:34.847970Z"
    }
   },
   "outputs": [
    {
     "name": "stdout",
     "output_type": "stream",
     "text": [
      "True\n",
      "Both are equal\n"
     ]
    }
   ],
   "source": [
    "# Exercise 05\n",
    "class A:\n",
    "    def __init__(self, a):\n",
    "        self.a = a\n",
    "\n",
    "    def __lt__(self, other):\n",
    "        if self.a < other.a:\n",
    "            return True\n",
    "        else:\n",
    "            return False\n",
    "    \n",
    "    def __eq__(self, other):\n",
    "        if(self.a == other.a):\n",
    "            return \"Both are equal\"\n",
    "        else:\n",
    "            return \"Not equal\"\n",
    "        \n",
    "ob1 = A(2)\n",
    "ob2 = A(3)\n",
    "print(ob1 < ob2)\n",
    "\n",
    "ob3 = A(4)\n",
    "ob4 = A(4)\n",
    "print(ob3 == ob4)"
   ]
  },
  {
   "cell_type": "code",
   "execution_count": 6,
   "metadata": {
    "ExecuteTime": {
     "end_time": "2020-07-18T18:08:35.077565Z",
     "start_time": "2020-07-18T18:08:34.964193Z"
    }
   },
   "outputs": [],
   "source": [
    "# Task 01\n",
    "class A:\n",
    "    def __init__(self, x):\n",
    "        self.x = x\n",
    "\n",
    "    def __gt__(self, other):\n",
    "        if self.x > other.y:\n",
    "            return True\n",
    "\n",
    "        else:\n",
    "            return False\n",
    "        \n",
    "    def __lt__(self, other):\n",
    "        if self.x < other.y:\n",
    "            return True\n",
    "\n",
    "        else:\n",
    "            return False\n",
    "\n",
    "    def __ge__(self, other):\n",
    "        if self.x >= other.y:\n",
    "            return True\n",
    "\n",
    "        else:\n",
    "            return False\n",
    "\n",
    "    def __le__(self, other):\n",
    "        if self.x <= other.y:\n",
    "            return True\n",
    "\n",
    "        else:\n",
    "            return False\n",
    "        \n",
    "    def __eq__(self, other):\n",
    "        if(self.x == other.y):\n",
    "            return True\n",
    "        else:\n",
    "            return False     \n",
    "        \n",
    "    def __ne__(self, other):\n",
    "        if(self.x != other.y):\n",
    "            return \"Both are equal\"\n",
    "        else:\n",
    "            return \"Not equal\"        \n",
    "\n",
    "class B:\n",
    "    def __init__(self, y):\n",
    "        self.y = y"
   ]
  },
  {
   "cell_type": "code",
   "execution_count": 7,
   "metadata": {
    "ExecuteTime": {
     "end_time": "2020-07-18T18:08:35.201756Z",
     "start_time": "2020-07-18T18:08:35.084567Z"
    }
   },
   "outputs": [
    {
     "name": "stdout",
     "output_type": "stream",
     "text": [
      "Is num1 less than num2?  False\n",
      "Is num1 is equal to num2?  True\n",
      "Is num1 is less than or equal to num2?  False\n"
     ]
    }
   ],
   "source": [
    "num1 = A(2)\n",
    "num2 = B(4)\n",
    "print(\"Is num1 less than num2? \",num1 > num2)\n",
    "\n",
    "num1 = A(2)\n",
    "num2 = B(2)\n",
    "print(\"Is num1 is equal to num2? \", num1 == num2)\n",
    "\n",
    "num1 = A(8)\n",
    "num2 = B(4)\n",
    "print(\"Is num1 is less than or equal to num2? \", num1 <= num2)"
   ]
  },
  {
   "cell_type": "code",
   "execution_count": 8,
   "metadata": {
    "ExecuteTime": {
     "end_time": "2020-07-18T18:08:35.390248Z",
     "start_time": "2020-07-18T18:08:35.217769Z"
    }
   },
   "outputs": [],
   "source": [
    "# Task 02 Robots Example\n",
    "from abc import ABC,abstractmethod\n",
    "# Abstract Class\n",
    "class Robot(ABC):\n",
    "    @abstractmethod\n",
    "    def obeyOrder(self): pass\n",
    "    \n",
    "    @abstractmethod\n",
    "    def doCleaning(self): pass\n",
    "\n",
    "# Derived Classes\n",
    "class Cook(Robot):\n",
    "    def obeyOrder(self):\n",
    "        print('Cook Robot is cooking.')\n",
    "    def doCleaning(self):\n",
    "        print('Cook Robot is cleaning kitchen.')\n",
    "    def cooking(self, dish):\n",
    "        print(f'Robot is cooking {dish}.')\n",
    "    def baking(self):\n",
    "        print('Robot is baking cookies.')\n",
    "        \n",
    "class Driver(Robot):\n",
    "    def obeyOrder(self):\n",
    "        print('Robot is driving.')\n",
    "    def doCleaning(self):\n",
    "        print('Robot is cleaning the vehicle.')\n",
    "    def drive(self, speed_status):\n",
    "        print(f'Robot is driving {speed_status}.')\n",
    "    def driveTo(self, destination):\n",
    "        print(f'Robot is driving to {destination}')"
   ]
  },
  {
   "cell_type": "code",
   "execution_count": 9,
   "metadata": {
    "ExecuteTime": {
     "end_time": "2020-07-18T18:08:35.503682Z",
     "start_time": "2020-07-18T18:08:35.399256Z"
    }
   },
   "outputs": [
    {
     "name": "stdout",
     "output_type": "stream",
     "text": [
      "Cook Robot is cooking.\n",
      "Robot is cooking fish.\n",
      "Robot is cleaning the vehicle.\n",
      "Robot is driving to Clifton\n"
     ]
    }
   ],
   "source": [
    "cook = Cook()\n",
    "cook.obeyOrder()\n",
    "cook.cooking('fish')\n",
    "\n",
    "driver = Driver()\n",
    "driver.doCleaning()\n",
    "driver.driveTo('Clifton')"
   ]
  }
 ],
 "metadata": {
  "kernelspec": {
   "display_name": "Python 3",
   "language": "python",
   "name": "python3"
  },
  "language_info": {
   "codemirror_mode": {
    "name": "ipython",
    "version": 3
   },
   "file_extension": ".py",
   "mimetype": "text/x-python",
   "name": "python",
   "nbconvert_exporter": "python",
   "pygments_lexer": "ipython3",
   "version": "3.7.6"
  },
  "varInspector": {
   "cols": {
    "lenName": 16,
    "lenType": 16,
    "lenVar": 40
   },
   "kernels_config": {
    "python": {
     "delete_cmd_postfix": "",
     "delete_cmd_prefix": "del ",
     "library": "var_list.py",
     "varRefreshCmd": "print(var_dic_list())"
    },
    "r": {
     "delete_cmd_postfix": ") ",
     "delete_cmd_prefix": "rm(",
     "library": "var_list.r",
     "varRefreshCmd": "cat(var_dic_list()) "
    }
   },
   "types_to_exclude": [
    "module",
    "function",
    "builtin_function_or_method",
    "instance",
    "_Feature"
   ],
   "window_display": false
  }
 },
 "nbformat": 4,
 "nbformat_minor": 4
}
