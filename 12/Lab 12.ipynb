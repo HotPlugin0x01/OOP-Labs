{
 "cells": [
  {
   "cell_type": "code",
   "execution_count": 10,
   "metadata": {
    "ExecuteTime": {
     "end_time": "2020-07-20T11:44:45.356204Z",
     "start_time": "2020-07-20T11:44:45.332201Z"
    }
   },
   "outputs": [
    {
     "name": "stdout",
     "output_type": "stream",
     "text": [
      "simple rocket has reached till stratosphere\n",
      "mars_rover has reached till Mars\n",
      "mars_rover Launched by ISRO\n"
     ]
    }
   ],
   "source": [
    "# Example 01\n",
    "class Rocket:\n",
    "    def __init__(self, name, distance):\n",
    "        self.name = name\n",
    "        self.distance = distance\n",
    "    def launch(self):\n",
    "        return \"%s has reached %s\" % (self.name, self.distance)\n",
    "\n",
    "class MarsRover(Rocket):\n",
    "    def __init__(self, name, distance, maker):\n",
    "        Rocket.__init__(self, name, distance)\n",
    "        self.maker = maker\n",
    "    def get_maker(self):\n",
    "        return \"%s Launched by %s\" % (self.name, self.maker)\n",
    "\n",
    "if __name__== \"__main__\":\n",
    "    x = Rocket(\"simple rocket\", \"till stratosphere\")\n",
    "    y = MarsRover(\"mars_rover\", \"till Mars\", \"ISRO\")\n",
    "    print(x.launch())\n",
    "    print(y.launch())\n",
    "    print(y.get_maker())"
   ]
  },
  {
   "cell_type": "code",
   "execution_count": 11,
   "metadata": {
    "ExecuteTime": {
     "end_time": "2020-07-20T11:45:53.668552Z",
     "start_time": "2020-07-20T11:45:53.652551Z"
    }
   },
   "outputs": [
    {
     "name": "stdout",
     "output_type": "stream",
     "text": [
      "mars_rover2 has reached till Mars\n",
      "mars_rover2 Launched by ISRO\n"
     ]
    }
   ],
   "source": [
    "# Example 02\n",
    "class MarsRoverComp():\n",
    "    def __init__(self, name, distance, maker):\n",
    "        self.rocket = Rocket(name, distance)\n",
    "        self.maker = maker\n",
    "    def get_maker(self):\n",
    "        return \"%s Launched by %s\" % (self.rocket.name, self.maker)\n",
    "if __name__== \"__main__\":\n",
    "    z = MarsRover(\"mars_rover2\", \"till Mars\", \"ISRO\")\n",
    "    print(z.launch())\n",
    "    print(z.get_maker())"
   ]
  },
  {
   "cell_type": "code",
   "execution_count": 3,
   "metadata": {
    "ExecuteTime": {
     "end_time": "2020-07-20T11:31:47.599336Z",
     "start_time": "2020-07-20T11:31:47.575334Z"
    }
   },
   "outputs": [
    {
     "name": "stdout",
     "output_type": "stream",
     "text": [
      "Total: 3200\n"
     ]
    }
   ],
   "source": [
    "# Example 03\n",
    "class Salary:\n",
    "    def __init__(self, pay):\n",
    "        self.pay = pay\n",
    "    def get_total(self):\n",
    "        return (self.pay*12)\n",
    "    \n",
    "class Employee:\n",
    "    def __init__(self, pay, bonus):\n",
    "        self.pay = pay\n",
    "        self.bonus = bonus\n",
    "        self.obj_salary = Salary(self.pay)\n",
    "    def annual_salary(self):\n",
    "        return \"Total: \" + str(self.obj_salary.get_total() + self.bonus)\n",
    "    \n",
    "obj_emp = Employee(200, 800)\n",
    "print(obj_emp.annual_salary())"
   ]
  },
  {
   "cell_type": "code",
   "execution_count": 13,
   "metadata": {
    "ExecuteTime": {
     "end_time": "2020-07-20T11:46:57.778464Z",
     "start_time": "2020-07-20T11:46:57.754458Z"
    }
   },
   "outputs": [
    {
     "name": "stdout",
     "output_type": "stream",
     "text": [
      "Name: Hamza\n",
      "ID: 80\n",
      "Birthday: 20-Dec-2001\n"
     ]
    }
   ],
   "source": [
    "# Task 01\n",
    "class Birthday:\n",
    "    def __init__(self, day, month, year):\n",
    "        self.day = day\n",
    "        self.month = month\n",
    "        self.year = year\n",
    "    def getBirthday(self):\n",
    "        return f'{self.day}-{self.month}-{self.year}'\n",
    "\n",
    "class People:\n",
    "    def __init__(self, name, id, day, month, year):\n",
    "        self.name = name\n",
    "        self.id = id\n",
    "        self.birthday = Birthday(day, month, year)\n",
    "    def printDetails(self):\n",
    "        return f'Name: {self.name}\\nID: {self.id}\\nBirthday: {self.birthday.getBirthday()}'\n",
    "    \n",
    "p1 = People('Hamza', 80, '20', 'Dec', '2001')\n",
    "print(p1.printDetails())"
   ]
  }
 ],
 "metadata": {
  "kernelspec": {
   "display_name": "Python 3",
   "language": "python",
   "name": "python3"
  },
  "language_info": {
   "codemirror_mode": {
    "name": "ipython",
    "version": 3
   },
   "file_extension": ".py",
   "mimetype": "text/x-python",
   "name": "python",
   "nbconvert_exporter": "python",
   "pygments_lexer": "ipython3",
   "version": "3.7.6"
  },
  "varInspector": {
   "cols": {
    "lenName": 16,
    "lenType": 16,
    "lenVar": 40
   },
   "kernels_config": {
    "python": {
     "delete_cmd_postfix": "",
     "delete_cmd_prefix": "del ",
     "library": "var_list.py",
     "varRefreshCmd": "print(var_dic_list())"
    },
    "r": {
     "delete_cmd_postfix": ") ",
     "delete_cmd_prefix": "rm(",
     "library": "var_list.r",
     "varRefreshCmd": "cat(var_dic_list()) "
    }
   },
   "types_to_exclude": [
    "module",
    "function",
    "builtin_function_or_method",
    "instance",
    "_Feature"
   ],
   "window_display": false
  }
 },
 "nbformat": 4,
 "nbformat_minor": 4
}
