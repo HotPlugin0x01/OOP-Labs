{
 "cells": [
  {
   "cell_type": "code",
   "execution_count": 69,
   "metadata": {
    "ExecuteTime": {
     "end_time": "2020-06-18T16:34:35.016709Z",
     "start_time": "2020-06-18T16:34:35.000703Z"
    }
   },
   "outputs": [],
   "source": [
    "# Q1\n",
    "class Employee:\n",
    "    def __init__(self, emp_id, lang):\n",
    "        self.emp_id = emp_id\n",
    "        self.lang = lang\n",
    "        \n",
    "    def getID(self):\n",
    "        return self.id\n",
    "    \n",
    "class Programmer(Employee):\n",
    "    def __init__(self, name, emp_id, age, lang):\n",
    "        self.name = name\n",
    "        self.age = age\n",
    "        Employee.__init__(self, emp_id, lang)\n",
    "        \n",
    "    def getEmpDetails(self):\n",
    "        return (f'Name: {self.name}\\nID: {self.emp_id}\\nProgramming Language: {self.lang}')"
   ]
  },
  {
   "cell_type": "code",
   "execution_count": 70,
   "metadata": {
    "ExecuteTime": {
     "end_time": "2020-06-18T16:34:35.344730Z",
     "start_time": "2020-06-18T16:34:35.336728Z"
    }
   },
   "outputs": [
    {
     "name": "stdout",
     "output_type": "stream",
     "text": [
      "Name: Ali\n",
      "ID: 80\n",
      "Programming Language: Java\n"
     ]
    }
   ],
   "source": [
    "pg = Programmer(name='Ali', emp_id=80, age=20, lang='Java')\n",
    "print(pg.getEmpDetails())"
   ]
  },
  {
   "cell_type": "code",
   "execution_count": 71,
   "metadata": {
    "ExecuteTime": {
     "end_time": "2020-06-18T16:38:50.467540Z",
     "start_time": "2020-06-18T16:38:50.443534Z"
    }
   },
   "outputs": [],
   "source": [
    "# Q2\n",
    "class Employee:\n",
    "    def __init__(self, emp_id, lang):\n",
    "        self.emp_id = emp_id\n",
    "        self.lang = lang\n",
    "        \n",
    "    def getID(self):\n",
    "        return self.id\n",
    "\n",
    "class Programmer(Employee):\n",
    "    def __init__(self, name, emp_id, age, lang):\n",
    "        self.name = name\n",
    "        self.age = age\n",
    "        Employee.__init__(self, emp_id, lang)\n",
    "        \n",
    "    def getEmpDetails(self):\n",
    "        return (f'Name: {self.name}\\nID: {self.emp_id}\\nProgramming Language: {self.lang}')\n",
    "    \n",
    "class Designer(Programmer, Employee):\n",
    "    def __init__(self, name, emp_id, age, lang):\n",
    "        Programmer.__init__(self, name, emp_id, age, lang)\n",
    "        Employee.__init__(self, emp_id, lang)\n",
    "    def getDesignType(self):\n",
    "        return 'Abstract'"
   ]
  },
  {
   "cell_type": "code",
   "execution_count": 34,
   "metadata": {
    "ExecuteTime": {
     "end_time": "2020-06-18T15:18:47.436692Z",
     "start_time": "2020-06-18T15:18:47.430688Z"
    }
   },
   "outputs": [
    {
     "name": "stdout",
     "output_type": "stream",
     "text": [
      "Name: Aman\n",
      "ID: 90\n",
      "Programming Language: CSS\n",
      "Abstract\n"
     ]
    }
   ],
   "source": [
    "ds1 = Designer(name='Aman', emp_id=90, age=18, lang='CSS')\n",
    "print(ds1.getEmpDetails())\n",
    "print(ds1.getDesignType())"
   ]
  },
  {
   "cell_type": "code",
   "execution_count": 53,
   "metadata": {
    "ExecuteTime": {
     "end_time": "2020-06-18T16:10:52.007884Z",
     "start_time": "2020-06-18T16:10:51.986297Z"
    }
   },
   "outputs": [],
   "source": [
    "# Q3\n",
    "class Bank:\n",
    "    def __init__(self, bank_name, bank_location):\n",
    "        self.b_name = bank_name\n",
    "        self.b_location = bank_location\n",
    "    \n",
    "    def getBankDetails(self):\n",
    "        print(f'Bank Name: {self.b_name}\\nLocation: {self.b_location}')\n",
    "    \n",
    "    def provideLoan(self, amount):\n",
    "        return amount\n",
    "        \n",
    "class Car_Dealer:\n",
    "    def __init__(self, name, showroom_loc, company):\n",
    "        self.name = name\n",
    "        self.showroom_loc = showroom_loc\n",
    "        self.company = company\n",
    "    def showCar(self, car):\n",
    "        print(f'Showing {car} Car.')\n",
    "    def sellCar(self, name):\n",
    "        print(f'Car Sold : {name}')\n",
    "    def getPayment(self, amount):\n",
    "        print(f'Amount Collected {amount}')\n",
    "    \n",
    "class Customer(Car_Dealer, Bank):\n",
    "    def __init__(self, name, bank_name, bank_location, acc_id):\n",
    "        self.name = name\n",
    "        self.acc_id = acc_id\n",
    "        self.balance = 20000\n",
    "        Bank.__init__(self, bank_name, bank_location)\n",
    "        \n",
    "    def getCustomerInfo(self):\n",
    "        print(f'Name: {self.name}\\nAccount ID: {self.acc_id}')\n",
    "    def getLoan(self, amount, duration):\n",
    "        print(f'Requesting Loan From {self.b_name}, {self.b_location}')\n",
    "        print(f'Request Accepted\\nAmount Provided: {super().provideLoan(amount)} for {duration} months.')\n",
    "    def buyCar(self):\n",
    "        print('Buying Car')\n",
    "    def payAmount(self, amount):\n",
    "        super().getPayment(amount)\n",
    "        print('Payment Done')"
   ]
  },
  {
   "cell_type": "code",
   "execution_count": 54,
   "metadata": {
    "ExecuteTime": {
     "end_time": "2020-06-18T16:10:52.415932Z",
     "start_time": "2020-06-18T16:10:52.399931Z"
    }
   },
   "outputs": [
    {
     "name": "stdout",
     "output_type": "stream",
     "text": [
      "Buying Car\n",
      "Requesting Loan From HBL, Gulshan\n",
      "Request Accepted\n",
      "Amount Provided: 100000 for 09 months.\n",
      "Amount Collected 20000\n",
      "Payment Done\n"
     ]
    }
   ],
   "source": [
    "c1 = Customer(name='Ali', bank_name='HBL', bank_location='Gulshan', acc_id=80)\n",
    "c1.buyCar()\n",
    "c1.getLoan(100000, '09')\n",
    "c1.payAmount(20000)"
   ]
  },
  {
   "cell_type": "code",
   "execution_count": 67,
   "metadata": {
    "ExecuteTime": {
     "end_time": "2020-06-18T16:30:15.057957Z",
     "start_time": "2020-06-18T16:30:15.041953Z"
    }
   },
   "outputs": [],
   "source": [
    "#Q4\n",
    "class Customer:\n",
    "    def __init__(self, name, age, phone):\n",
    "        self.name = name\n",
    "        self.age = age\n",
    "        self.phone = phone\n",
    "        \n",
    "    def getCustomerInfo(self):\n",
    "        return (f'Customer Name: {self.name}\\nCustomer Age: {self.age}\\nCutomer Phone: {self.phone}')\n",
    "\n",
    "\n",
    "\n",
    "class Management:\n",
    "    def __init__(self, ManagerName, ManagerAge, ManagerPhone):\n",
    "        self.ManagerName = ManagerName\n",
    "        self.ManagerAge = ManagerAge\n",
    "        self.ManagerPhone = ManagerPhone\n",
    "        \n",
    "    def getManagementInfo(self):\n",
    "        return (f'Manager Name: {self.ManagerName}\\nManager Age: {self.ManagerAge}\\nPhone: {self.ManagerPhone}')\n",
    "\n",
    "\n",
    "class Cargo(Customer, Management):\n",
    "    def __init__(self, name, age, phone, ManagerName, ManagerEmail, ManagerPhone):\n",
    "        Customer.__init__(self, name, age, phone)\n",
    "        Management.__init__(self, ManagerName, ManagerEmail, ManagerPhone)        \n",
    "        \n",
    "    def getCargoDetails(self):\n",
    "        print(f'\\t-Cutomer Details-\\n{super().getCustomerInfo()}\\n\\t-ManagementDetails-\\n{super().getManagementInfo()}')\n"
   ]
  },
  {
   "cell_type": "code",
   "execution_count": 68,
   "metadata": {
    "ExecuteTime": {
     "end_time": "2020-06-18T16:30:22.065715Z",
     "start_time": "2020-06-18T16:30:22.049692Z"
    }
   },
   "outputs": [
    {
     "name": "stdout",
     "output_type": "stream",
     "text": [
      "\t-Cutomer Details-\n",
      "Customer Name: Afsha\n",
      "Customer Age: 19\n",
      "Cutomer Phone: 021456\n",
      "\t-ManagementDetails-\n",
      "Manager Name: Hamza\n",
      "Manager Age: 24\n",
      "Phone: 02144\n"
     ]
    }
   ],
   "source": [
    "order = Cargo('Afsha', 19, '021456', 'Hamza', 24, '02144')\n",
    "order.getCargoDetails()"
   ]
  }
 ],
 "metadata": {
  "kernelspec": {
   "display_name": "Python 3",
   "language": "python",
   "name": "python3"
  },
  "language_info": {
   "codemirror_mode": {
    "name": "ipython",
    "version": 3
   },
   "file_extension": ".py",
   "mimetype": "text/x-python",
   "name": "python",
   "nbconvert_exporter": "python",
   "pygments_lexer": "ipython3",
   "version": "3.7.3"
  },
  "varInspector": {
   "cols": {
    "lenName": 16,
    "lenType": 16,
    "lenVar": 40
   },
   "kernels_config": {
    "python": {
     "delete_cmd_postfix": "",
     "delete_cmd_prefix": "del ",
     "library": "var_list.py",
     "varRefreshCmd": "print(var_dic_list())"
    },
    "r": {
     "delete_cmd_postfix": ") ",
     "delete_cmd_prefix": "rm(",
     "library": "var_list.r",
     "varRefreshCmd": "cat(var_dic_list()) "
    }
   },
   "position": {
    "height": "144px",
    "left": "250px",
    "right": "20px",
    "top": "143px",
    "width": "350px"
   },
   "types_to_exclude": [
    "module",
    "function",
    "builtin_function_or_method",
    "instance",
    "_Feature"
   ],
   "window_display": false
  }
 },
 "nbformat": 4,
 "nbformat_minor": 2
}
