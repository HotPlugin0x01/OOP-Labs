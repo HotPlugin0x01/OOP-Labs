{
 "cells": [
  {
   "cell_type": "code",
   "execution_count": 1,
   "metadata": {
    "ExecuteTime": {
     "end_time": "2020-06-22T15:53:28.809999Z",
     "start_time": "2020-06-22T15:53:28.793997Z"
    }
   },
   "outputs": [],
   "source": [
    "# Example 01\n",
    "class Shark:\n",
    "    def swim(self):\n",
    "        print('Shark is swimming.')\n",
    "    def swim_backwards(self):\n",
    "        print('Shark cannot swim bakwards')\n",
    "    def skeleton(self):\n",
    "        print('Skeleton of shark is made of crtilage')\n",
    "        \n",
    "class ClownFish:\n",
    "    def swim(self):\n",
    "        print('ClownFish is swimming')\n",
    "    def swim_backwards(self):\n",
    "        print('ÇlownFish can swim backwards')\n",
    "    def skeleton(self):\n",
    "        print('The skeleton of clownfish is made of bones')"
   ]
  },
  {
   "cell_type": "code",
   "execution_count": 4,
   "metadata": {
    "ExecuteTime": {
     "end_time": "2020-06-22T15:56:28.369231Z",
     "start_time": "2020-06-22T15:56:28.353229Z"
    }
   },
   "outputs": [
    {
     "name": "stdout",
     "output_type": "stream",
     "text": [
      "Skeleton of shark is made of crtilage\n",
      "Shark is swimming.\n",
      "Shark cannot swim bakwards\n",
      "The skeleton of clownfish is made of bones\n",
      "ClownFish is swimming\n",
      "ÇlownFish can swim backwards\n"
     ]
    }
   ],
   "source": [
    "# Example 02\n",
    "shark = Shark()\n",
    "clown = ClownFish()\n",
    "for fish in (shark,clown):\n",
    "    fish.skeleton()\n",
    "    fish.swim()\n",
    "    fish.swim_backwards()"
   ]
  },
  {
   "cell_type": "code",
   "execution_count": 12,
   "metadata": {
    "ExecuteTime": {
     "end_time": "2020-06-23T16:01:36.813527Z",
     "start_time": "2020-06-23T16:01:36.797522Z"
    }
   },
   "outputs": [],
   "source": [
    "# Example 03\n",
    "class AudioFiles:\n",
    "    def __init__(self, filename):\n",
    "        if not filename.endswith(self.ext):\n",
    "            raise Exception('Invalid file format!')\n",
    "        self.filename = filename\n",
    "        \n",
    "class MP3(AudioFiles):\n",
    "    ext = '.mp3'\n",
    "    def play(self):\n",
    "        print('playing {} as mp3'.format(self.filename))\n",
    "        \n",
    "class Wav(AudioFiles):\n",
    "    ext = '.wav'\n",
    "    def play(self):\n",
    "        print('playing {} as wav'.format(self.filename))\n",
    "\n",
    "class Ogg(AudioFiles):\n",
    "    ext = '.ogg'\n",
    "    def play(self):\n",
    "        print('playing {} as ogg'.format(self.filename))\n",
    "        \n",
    "class FlacFile:\n",
    "    def __init__(self, filename):\n",
    "        if not filename.endswith('.flac'):\n",
    "            raise Exception('Invalid file format!')\n",
    "        self.filename = filename\n",
    "    def play(self):\n",
    "        print('playing {} as flac'.format(self.filename))"
   ]
  },
  {
   "cell_type": "code",
   "execution_count": 13,
   "metadata": {
    "ExecuteTime": {
     "end_time": "2020-06-23T16:02:05.267218Z",
     "start_time": "2020-06-23T16:02:05.251196Z"
    }
   },
   "outputs": [
    {
     "name": "stdout",
     "output_type": "stream",
     "text": [
      "playing hello.mp3 as mp3\n",
      "playing jason.flac as flac\n"
     ]
    }
   ],
   "source": [
    "mp3 = MP3('hello.mp3')\n",
    "mp3.play()\n",
    "flac = FlacFile('jason.flac')\n",
    "flac.play()"
   ]
  },
  {
   "cell_type": "code",
   "execution_count": 31,
   "metadata": {
    "ExecuteTime": {
     "end_time": "2020-06-22T16:25:18.435076Z",
     "start_time": "2020-06-22T16:25:18.419054Z"
    }
   },
   "outputs": [],
   "source": [
    "# Example 04\n",
    "class Parrot:\n",
    "    def fly(self):\n",
    "        print('Parrot can fly!')\n",
    "    def swim(self):\n",
    "        print('Parrot cannot swim!')\n",
    "\n",
    "        \n",
    "class Penguin:\n",
    "    def fly(self):\n",
    "        print('Penguin cannot fly!')\n",
    "    def swim(self):\n",
    "        print('Penguin can swim!')\n",
    "        \n",
    "# Explicit Function on common interface\n",
    "def testing_birds(name):\n",
    "    name.fly()\n",
    "    name.swim()"
   ]
  },
  {
   "cell_type": "code",
   "execution_count": 32,
   "metadata": {
    "ExecuteTime": {
     "end_time": "2020-06-22T16:25:19.156877Z",
     "start_time": "2020-06-22T16:25:19.140853Z"
    }
   },
   "outputs": [
    {
     "name": "stdout",
     "output_type": "stream",
     "text": [
      "Parrot can fly!\n",
      "Parrot cannot swim!\n",
      "Penguin cannot fly!\n",
      "Penguin can swim!\n"
     ]
    }
   ],
   "source": [
    "parrot = Parrot()\n",
    "penguin = Penguin()\n",
    "\n",
    "# Calling Explicit function\n",
    "testing_birds(parrot)\n",
    "testing_birds(penguin)"
   ]
  },
  {
   "cell_type": "code",
   "execution_count": 35,
   "metadata": {
    "ExecuteTime": {
     "end_time": "2020-06-22T18:05:06.586900Z",
     "start_time": "2020-06-22T18:05:06.554895Z"
    }
   },
   "outputs": [],
   "source": [
    "# Example 05:\n",
    "class Rectangle:\n",
    "    def __init__(self, color, filled, width, length):\n",
    "        self.__color = color\n",
    "        self.__filled = filled\n",
    "        self.__width = width\n",
    "        self.__length = length\n",
    "    def setColor(self, color):\n",
    "        self.__color = color\n",
    "    def getColor(self):\n",
    "        return self.__color\n",
    "    def isFilled(self):\n",
    "        return  self.__filled\n",
    "    def setFilled(self, fill):\n",
    "        self.__filled = fill\n",
    "    def getArea(self):\n",
    "        return self.__length * __width\n",
    "    \n",
    "class Circle:\n",
    "    def __init__(self, color, filled, radius):\n",
    "        self.__color = color\n",
    "        self.__filled = filled\n",
    "        self.__radius = radius\n",
    "    def setColor(self, color):\n",
    "        self.__color = color\n",
    "    def getColor(self):\n",
    "        return self.__color\n",
    "    def isFilled(self):\n",
    "        return self.__filled\n",
    "    def setFilled(self, fill):\n",
    "        self.__filled = fill\n",
    "    def getArea(self):\n",
    "        return (3.14 * (self.__radius ** 2))"
   ]
  },
  {
   "cell_type": "code",
   "execution_count": 65,
   "metadata": {
    "ExecuteTime": {
     "end_time": "2020-06-22T18:32:24.179308Z",
     "start_time": "2020-06-22T18:32:24.067261Z"
    }
   },
   "outputs": [],
   "source": [
    "# Example 06:\n",
    "class Shape:\n",
    "    def __init__(self, color='red', filled=False):\n",
    "        self.__color = color\n",
    "        self.__filled = filled\n",
    "    def getColor(self):\n",
    "        return self.__color\n",
    "    def setColor(self, color):\n",
    "        self.__color = color\n",
    "    def isFilled(self):\n",
    "        return self.__filled\n",
    "    def setFilled(self, fill):\n",
    "        self.__filled = fill\n",
    "    \n",
    "class Rectangle(Shape):\n",
    "    def __init__(self, length, breadth):\n",
    "        super().__init__()\n",
    "        self.__length = length\n",
    "        self.__breadth = breadth\n",
    "    def getLength(self):\n",
    "        return self.__length\n",
    "    def setLength(self, length):\n",
    "        self.__length = length\n",
    "    def getBreadth(self):\n",
    "        return self.__breadth\n",
    "    def setBreadth(self, breadth):\n",
    "        self.__breadth = breadth\n",
    "    def getArea(self):\n",
    "        return (self.__length * self.__breadth)\n",
    "    def getPerimeter(self):\n",
    "        return (2 * (self.__length + self.__breadth))\n",
    "    \n",
    "class Circle(Shape):\n",
    "    def __init__(self, radius):\n",
    "        super().__init__()\n",
    "        self.__radius = radius\n",
    "    def getRadius(self):\n",
    "        return self.__radius\n",
    "    def setRadius(self, radius):\n",
    "        self.__radius = radius\n",
    "    def getArea(self):\n",
    "        return (3.14 * (self.__radius ** 2))\n",
    "    def getPerimeter(self):\n",
    "        return (2 * 3.14 * self.__radius)"
   ]
  },
  {
   "cell_type": "code",
   "execution_count": 71,
   "metadata": {
    "ExecuteTime": {
     "end_time": "2020-06-22T18:37:52.384662Z",
     "start_time": "2020-06-22T18:37:52.368658Z"
    }
   },
   "outputs": [
    {
     "name": "stdout",
     "output_type": "stream",
     "text": [
      "\tRectangle Instance\n",
      "200\n",
      "red\n",
      "Blue\n",
      "60\n",
      "\tCircle Instance\n",
      "red\n",
      "False\n",
      "2826.0\n"
     ]
    }
   ],
   "source": [
    "print('\\tRectangle Instance')\n",
    "r1 = Rectangle(length=10, breadth=20)\n",
    "print(r1.getArea())\n",
    "print(r1.getColor())\n",
    "r1.setColor('Blue')\n",
    "print(r1.getColor())\n",
    "print(r1.getPerimeter())\n",
    "print('\\tCircle Instance')\n",
    "c1 = Circle(radius=30)\n",
    "print(c1.getColor())\n",
    "print(c1.isFilled())\n",
    "print(c1.getArea())"
   ]
  },
  {
   "cell_type": "code",
   "execution_count": 72,
   "metadata": {
    "ExecuteTime": {
     "end_time": "2020-06-22T19:09:54.563069Z",
     "start_time": "2020-06-22T19:09:54.531053Z"
    }
   },
   "outputs": [],
   "source": [
    "# Example 07\n",
    "class Bear:\n",
    "    def sound(self):\n",
    "        print('Groarr!')\n",
    "    \n",
    "class Dog:\n",
    "    def sound(self):\n",
    "        print('Woof Woof!')\n",
    "        \n",
    "def makeSound(animal):\n",
    "    animal.sound()"
   ]
  },
  {
   "cell_type": "code",
   "execution_count": 73,
   "metadata": {
    "ExecuteTime": {
     "end_time": "2020-06-22T19:10:37.009363Z",
     "start_time": "2020-06-22T19:10:36.937359Z"
    }
   },
   "outputs": [
    {
     "name": "stdout",
     "output_type": "stream",
     "text": [
      "Groarr!\n",
      "Woof Woof!\n"
     ]
    }
   ],
   "source": [
    "bear = Bear()\n",
    "dog = Dog()\n",
    "makeSound(bear)\n",
    "makeSound(dog)"
   ]
  },
  {
   "cell_type": "code",
   "execution_count": 75,
   "metadata": {
    "ExecuteTime": {
     "end_time": "2020-06-22T20:50:09.015284Z",
     "start_time": "2020-06-22T20:50:09.004275Z"
    }
   },
   "outputs": [],
   "source": [
    "# Exercise 01\n",
    "class Automatic_Umbrella:\n",
    "    def open(self):\n",
    "        print('Automatic umbrella can be opened with one push button.')\n",
    "    \n",
    "    def waterProof(self):\n",
    "        print('Automatic umbrella is waterproof.')\n",
    "    \n",
    "    def close(self):\n",
    "        print('Automatic umbrella can be closed with one push button.')\n",
    "        \n",
    "class Paper_Umbrella:\n",
    "    def open(self):\n",
    "        print('Paper Umbrella is opened manually by dragging shaft.')\n",
    "        \n",
    "    def waterProof(self):\n",
    "        print('Paper Umbrella is not waterproof.')\n",
    "    \n",
    "    def close(self):\n",
    "        print('Paper Umbrella is closed manually by dragging shaft.')"
   ]
  },
  {
   "cell_type": "code",
   "execution_count": 80,
   "metadata": {
    "ExecuteTime": {
     "end_time": "2020-06-22T20:51:44.520736Z",
     "start_time": "2020-06-22T20:51:44.514730Z"
    }
   },
   "outputs": [
    {
     "name": "stdout",
     "output_type": "stream",
     "text": [
      "Automatic umbrella can be opened with one push button.\n",
      "Automatic umbrella is waterproof.\n",
      "Automatic umbrella can be closed with one push button.\n",
      "Paper Umbrella is opened manually by dragging shaft.\n",
      "Paper Umbrella is not waterproof.\n",
      "Paper Umbrella is closed manually by dragging shaft.\n"
     ]
    }
   ],
   "source": [
    "# Driver Code\n",
    "autoUmbrella = Automatic_Umbrella()\n",
    "paperUmbrella = Paper_Umbrella()\n",
    "for umbrella in (autoUmbrella, paperUmbrella):\n",
    "    umbrella.open()\n",
    "    umbrella.waterProof()\n",
    "    umbrella.close()"
   ]
  },
  {
   "cell_type": "code",
   "execution_count": 4,
   "metadata": {
    "ExecuteTime": {
     "end_time": "2020-06-23T14:49:56.524692Z",
     "start_time": "2020-06-23T14:49:56.513684Z"
    }
   },
   "outputs": [],
   "source": [
    "# Exercise 02\n",
    "class ClassicalPhone:\n",
    "    def pressButton(self):\n",
    "        print('Button is pressed.')\n",
    "    \n",
    "    def touch(self):\n",
    "        print('This phone does not support touch screen.')\n",
    "    \n",
    "    def getPhoneSize(self):\n",
    "        print('4 inches Screen Display')\n",
    "    \n",
    "    def hasScreenSplit(self):\n",
    "        print('No, this phone doesn\\'t support screen split.')\n",
    "    \n",
    "    def getOS(self):\n",
    "        print('Nokia OS.')\n",
    "        \n",
    "class SmartPhone:\n",
    "    def pressButton(self):\n",
    "        print('Smartphone doesn\\'t have button.')\n",
    "    \n",
    "    def touch(self):\n",
    "        print('Smartphone have touch screen.')\n",
    "    \n",
    "    def getPhoneSize(self):\n",
    "        print('8 inches HD Screen Display')\n",
    "    \n",
    "    def hasScreenSplit(self):\n",
    "        print('Smartphone can split screen.')\n",
    "    \n",
    "    def getOS(self):\n",
    "        print('Anrdoid 10')\n",
    "        \n",
    "# Explicit Function\n",
    "def phoneTest(phoneName):\n",
    "    phoneName.pressButton()\n",
    "    phoneName.touch()\n",
    "    phoneName.getPhoneSize()\n",
    "    phoneName.hasScreenSplit()\n",
    "    phoneName.getOS()"
   ]
  },
  {
   "cell_type": "code",
   "execution_count": 6,
   "metadata": {
    "ExecuteTime": {
     "end_time": "2020-06-23T14:55:09.599340Z",
     "start_time": "2020-06-23T14:55:09.591335Z"
    }
   },
   "outputs": [
    {
     "name": "stdout",
     "output_type": "stream",
     "text": [
      "Button is pressed.\n",
      "This phone does not support touch screen.\n",
      "4 inches Screen Display\n",
      "No, this phone doesn't support screen split.\n",
      "Nokia OS.\n",
      "Smartphone doesn't have button.\n",
      "Smartphone have touch screen.\n",
      "8 inches HD Screen Display\n",
      "Smartphone can split screen.\n",
      "Anrdoid 10\n"
     ]
    }
   ],
   "source": [
    "# Drive Code\n",
    "nokia = ClassicalPhone()\n",
    "samsung = SmartPhone()\n",
    "\n",
    "for phone in (nokia, samsung):\n",
    "    phoneTest(phone)"
   ]
  },
  {
   "cell_type": "code",
   "execution_count": 8,
   "metadata": {
    "ExecuteTime": {
     "end_time": "2020-06-23T15:48:28.777256Z",
     "start_time": "2020-06-23T15:48:28.764244Z"
    }
   },
   "outputs": [],
   "source": [
    "# Task 03\n",
    "class GrasslandButterfly:\n",
    "    def getColor(self):\n",
    "        print('They have orange wings.')\n",
    "        \n",
    "    def getPattern(self):\n",
    "        print('Row of white spots at edges of wings.')\n",
    "        \n",
    "    def livingNature(self):\n",
    "        print('They live around flowers and meadows.')\n",
    "        \n",
    "    def living_as_pupa(self):\n",
    "        print('One Month in Pupa')\n",
    "\n",
    "    def living_as_caterpillar(self):\n",
    "        print('Two Weeks as Caterpillar')\n",
    "        \n",
    "class ExoticButterfly:\n",
    "    def getColor(self):\n",
    "        print('They have iridescent blue wings.')\n",
    "    \n",
    "    def getPattern(self):\n",
    "        print('Several eyespots on downwings.')\n",
    "        \n",
    "    def livingNature(self):\n",
    "        print('They live in tropical areas around the equator.')\n",
    "        \n",
    "    def living_as_pupa(self):\n",
    "        print('Three weeks in Pupa')\n",
    "        \n",
    "    def living_as_caterpillar(self):\n",
    "        print('One week as caterpillar')"
   ]
  },
  {
   "cell_type": "code",
   "execution_count": 11,
   "metadata": {
    "ExecuteTime": {
     "end_time": "2020-06-23T15:51:38.680816Z",
     "start_time": "2020-06-23T15:51:38.672813Z"
    }
   },
   "outputs": [
    {
     "name": "stdout",
     "output_type": "stream",
     "text": [
      "They have orange wings.\n",
      "Row of white spots at edges of wings.\n",
      "They live around flowers and meadows.\n",
      "One Month in Pupa\n",
      "Two Weeks as Caterpillar\n",
      "They have iridescent blue wings.\n",
      "Several eyespots on downwings.\n",
      "They live in tropical areas around the equator.\n",
      "Three weeks in Pupa\n",
      "One week as caterpillar\n"
     ]
    }
   ],
   "source": [
    "# Driver Code\n",
    "butterfly1 = GrasslandButterfly()\n",
    "butterfly2 = ExoticButterfly()\n",
    "\n",
    "for butterfly in (butterfly1, butterfly2):\n",
    "    butterfly.getColor()\n",
    "    butterfly.getPattern()\n",
    "    butterfly.livingNature()\n",
    "    butterfly.living_as_pupa()\n",
    "    butterfly.living_as_caterpillar()"
   ]
  }
 ],
 "metadata": {
  "kernelspec": {
   "display_name": "Python 3",
   "language": "python",
   "name": "python3"
  },
  "language_info": {
   "codemirror_mode": {
    "name": "ipython",
    "version": 3
   },
   "file_extension": ".py",
   "mimetype": "text/x-python",
   "name": "python",
   "nbconvert_exporter": "python",
   "pygments_lexer": "ipython3",
   "version": "3.7.6"
  },
  "varInspector": {
   "cols": {
    "lenName": 16,
    "lenType": 16,
    "lenVar": 40
   },
   "kernels_config": {
    "python": {
     "delete_cmd_postfix": "",
     "delete_cmd_prefix": "del ",
     "library": "var_list.py",
     "varRefreshCmd": "print(var_dic_list())"
    },
    "r": {
     "delete_cmd_postfix": ") ",
     "delete_cmd_prefix": "rm(",
     "library": "var_list.r",
     "varRefreshCmd": "cat(var_dic_list()) "
    }
   },
   "types_to_exclude": [
    "module",
    "function",
    "builtin_function_or_method",
    "instance",
    "_Feature"
   ],
   "window_display": false
  }
 },
 "nbformat": 4,
 "nbformat_minor": 2
}
