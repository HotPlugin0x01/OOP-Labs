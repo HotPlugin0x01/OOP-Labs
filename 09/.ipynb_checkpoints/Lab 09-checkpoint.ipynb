{
 "cells": [
  {
   "cell_type": "code",
   "execution_count": 16,
   "metadata": {
    "ExecuteTime": {
     "end_time": "2020-07-06T12:44:01.781982Z",
     "start_time": "2020-07-06T12:44:01.757961Z"
    }
   },
   "outputs": [
    {
     "ename": "TypeError",
     "evalue": "unsupported operand type(s) for +: 'Complex' and 'Complex'",
     "output_type": "error",
     "traceback": [
      "\u001b[1;31m---------------------------------------------------------------------------\u001b[0m",
      "\u001b[1;31mTypeError\u001b[0m                                 Traceback (most recent call last)",
      "\u001b[1;32m<ipython-input-16-9ae7c4278701>\u001b[0m in \u001b[0;36m<module>\u001b[1;34m\u001b[0m\n\u001b[0;32m      7\u001b[0m \u001b[0mc1\u001b[0m \u001b[1;33m=\u001b[0m \u001b[0mComplex\u001b[0m\u001b[1;33m(\u001b[0m\u001b[1;36m5\u001b[0m\u001b[1;33m,\u001b[0m\u001b[1;36m3\u001b[0m\u001b[1;33m)\u001b[0m\u001b[1;33m\u001b[0m\u001b[1;33m\u001b[0m\u001b[0m\n\u001b[0;32m      8\u001b[0m \u001b[0mc2\u001b[0m \u001b[1;33m=\u001b[0m \u001b[0mComplex\u001b[0m\u001b[1;33m(\u001b[0m\u001b[1;36m2\u001b[0m\u001b[1;33m,\u001b[0m\u001b[1;36m4\u001b[0m\u001b[1;33m)\u001b[0m\u001b[1;33m\u001b[0m\u001b[1;33m\u001b[0m\u001b[0m\n\u001b[1;32m----> 9\u001b[1;33m \u001b[0mprint\u001b[0m\u001b[1;33m(\u001b[0m\u001b[1;34m\"sum = \"\u001b[0m\u001b[1;33m,\u001b[0m \u001b[0mc1\u001b[0m\u001b[1;33m+\u001b[0m\u001b[0mc2\u001b[0m\u001b[1;33m)\u001b[0m\u001b[1;33m\u001b[0m\u001b[1;33m\u001b[0m\u001b[0m\n\u001b[0m",
      "\u001b[1;31mTypeError\u001b[0m: unsupported operand type(s) for +: 'Complex' and 'Complex'"
     ]
    }
   ],
   "source": [
    "# Example 01\n",
    "class Complex:\n",
    "    def __init__(self, r, i):\n",
    "        self.real = r\n",
    "        self.img = i\n",
    "\n",
    "c1 = Complex(5,3)\n",
    "c2 = Complex(2,4)\n",
    "print(\"sum = \", c1+c2)"
   ]
  },
  {
   "cell_type": "code",
   "execution_count": null,
   "metadata": {
    "ExecuteTime": {
     "end_time": "2020-07-06T12:44:01.781982Z",
     "start_time": "2020-07-06T12:44:01.755Z"
    }
   },
   "outputs": [],
   "source": [
    "# Example 02\n",
    "class Complex:\n",
    "    def __init__(self, r, i):\n",
    "        self.real = r\n",
    "        self.img = i\n",
    "        \n",
    "    def __add__(self, sec):\n",
    "        r = self.real + sec.real\n",
    "        i = self.img + sec.img\n",
    "        return Complex(r,i)\n",
    "    \n",
    "    def __str__(self):\n",
    "        return str(self.real)+' + '+str(self.img)+'i'"
   ]
  },
  {
   "cell_type": "code",
   "execution_count": null,
   "metadata": {
    "ExecuteTime": {
     "end_time": "2020-07-06T12:44:01.781982Z",
     "start_time": "2020-07-06T12:44:01.761Z"
    }
   },
   "outputs": [],
   "source": [
    "c1 = Complex(5,3)\n",
    "c2 = Complex(2,4)\n",
    "print(c1+c2)"
   ]
  },
  {
   "cell_type": "code",
   "execution_count": null,
   "metadata": {
    "ExecuteTime": {
     "end_time": "2020-07-06T12:44:01.789965Z",
     "start_time": "2020-07-06T12:44:01.766Z"
    }
   },
   "outputs": [],
   "source": [
    "# Example 03\n",
    "class Point:\n",
    "    def __init__(self, x=0, y=0):\n",
    "        self.x = x\n",
    "        self.y = y\n",
    "    def __str__(self):\n",
    "        return \"({0},{1})\".format(self.x, self.y)\n",
    "    def __sub__(self, other):\n",
    "        x = self.x - other.x\n",
    "        y = self.y - other.y\n",
    "        return Point(x, y)"
   ]
  },
  {
   "cell_type": "code",
   "execution_count": null,
   "metadata": {
    "ExecuteTime": {
     "end_time": "2020-07-06T12:44:01.789965Z",
     "start_time": "2020-07-06T12:44:01.770Z"
    }
   },
   "outputs": [],
   "source": [
    "p1 = Point(5, 4)\n",
    "p2 = Point(4, 2)\n",
    "print(p1-p2)"
   ]
  },
  {
   "cell_type": "code",
   "execution_count": null,
   "metadata": {
    "ExecuteTime": {
     "end_time": "2020-07-06T12:44:01.789965Z",
     "start_time": "2020-07-06T12:44:01.774Z"
    }
   },
   "outputs": [],
   "source": [
    "# Case Study 01\n",
    "class Apple:\n",
    "    def type(self):\n",
    "        print('Fruit')\n",
    "    def color(self):\n",
    "        print('Red')\n",
    "    def taste(self):\n",
    "        print('Sweet')\n",
    "    \n",
    "class Grapes:\n",
    "    def type(self):\n",
    "        print('Fruit')\n",
    "    def color(self):\n",
    "        print('Green')\n",
    "    def taste(self):\n",
    "        print('Sour')\n",
    "        \n",
    "def fruits(fruit):\n",
    "    fruit.type()\n",
    "    fruit.color()\n",
    "    fruit.taste()"
   ]
  },
  {
   "cell_type": "code",
   "execution_count": null,
   "metadata": {
    "ExecuteTime": {
     "end_time": "2020-07-06T12:44:01.797962Z",
     "start_time": "2020-07-06T12:44:01.777Z"
    }
   },
   "outputs": [],
   "source": [
    "apple = Apple()\n",
    "grapes = Grapes()\n",
    "\n",
    "fruits(apple)\n",
    "fruits(grapes)"
   ]
  },
  {
   "cell_type": "code",
   "execution_count": 17,
   "metadata": {
    "ExecuteTime": {
     "end_time": "2020-07-06T12:44:01.933973Z",
     "start_time": "2020-07-06T12:44:01.877967Z"
    }
   },
   "outputs": [],
   "source": [
    "# Case Study 02\n",
    "from abc import ABC,abstractmethod\n",
    "class Vehicle(ABC):\n",
    "    @abstractmethod\n",
    "    def model(self):\n",
    "        pass\n",
    "    @abstractmethod\n",
    "    def color(self):\n",
    "        pass\n",
    "    \n",
    "class Car(Vehicle):\n",
    "    def model(self):\n",
    "        print('2019')\n",
    "    def color(self):\n",
    "        print('White')\n",
    "\n",
    "class Bike(Vehicle):\n",
    "    def model(self):\n",
    "        print('2016')\n",
    "    def color(self):\n",
    "        print('Black')"
   ]
  },
  {
   "cell_type": "code",
   "execution_count": 18,
   "metadata": {
    "ExecuteTime": {
     "end_time": "2020-07-06T12:44:02.082129Z",
     "start_time": "2020-07-06T12:44:01.941976Z"
    }
   },
   "outputs": [
    {
     "name": "stdout",
     "output_type": "stream",
     "text": [
      "2019\n",
      "White\n",
      "2016\n",
      "Black\n"
     ]
    }
   ],
   "source": [
    "bmw = Car()\n",
    "bmw.model()\n",
    "bmw.color()\n",
    "\n",
    "cd = Bike()\n",
    "cd.model()\n",
    "cd.color()"
   ]
  },
  {
   "cell_type": "code",
   "execution_count": 19,
   "metadata": {
    "ExecuteTime": {
     "end_time": "2020-07-06T12:44:02.170077Z",
     "start_time": "2020-07-06T12:44:02.082129Z"
    }
   },
   "outputs": [],
   "source": [
    "# Task 01\n",
    "class Distance:\n",
    "    def __init__(self,feet,inches):\n",
    "        self.feet = feet\n",
    "        self.inches = inches\n",
    "\n",
    "    def __add__(self, end):\n",
    "        feet= self.feet + end.feet\n",
    "        inches = self.inches + end.inches\n",
    "        return Distance(feet, inches)\n",
    "    \n",
    "    def __str__(self):\n",
    "        return \"({},{})\".format(self.feet, self.inches)"
   ]
  },
  {
   "cell_type": "code",
   "execution_count": 20,
   "metadata": {
    "ExecuteTime": {
     "end_time": "2020-07-06T12:44:02.298118Z",
     "start_time": "2020-07-06T12:44:02.178078Z"
    }
   },
   "outputs": [
    {
     "name": "stdout",
     "output_type": "stream",
     "text": [
      "(15,10)\n"
     ]
    }
   ],
   "source": [
    "p1 = Distance(4, 1)\n",
    "p2 = Distance(11, 9)\n",
    "print(p1 + p2)"
   ]
  },
  {
   "cell_type": "code",
   "execution_count": 21,
   "metadata": {
    "ExecuteTime": {
     "end_time": "2020-07-06T12:44:02.410101Z",
     "start_time": "2020-07-06T12:44:02.298118Z"
    }
   },
   "outputs": [],
   "source": [
    "# Task 02\n",
    "class Time:\n",
    "    def __init__(self,minute,second):\n",
    "        self.minute = minute\n",
    "        self.second = second\n",
    "\n",
    "    def __sub__(self, other):\n",
    "        minute = self.minute - other.minute\n",
    "        second = self.second - other.second\n",
    "        return Time(minute,second)\n",
    "    \n",
    "    def __str__(self):\n",
    "        return \"({0},{1})\".format(self.minute, self.second)"
   ]
  },
  {
   "cell_type": "code",
   "execution_count": 22,
   "metadata": {
    "ExecuteTime": {
     "end_time": "2020-07-06T12:44:02.514101Z",
     "start_time": "2020-07-06T12:44:02.418096Z"
    }
   },
   "outputs": [
    {
     "name": "stdout",
     "output_type": "stream",
     "text": [
      "(9,8)\n"
     ]
    }
   ],
   "source": [
    "t1 = Time(12, 9)\n",
    "t2 = Time(3, 1)\n",
    "print(t1 - t2)"
   ]
  }
 ],
 "metadata": {
  "kernelspec": {
   "display_name": "Python 3",
   "language": "python",
   "name": "python3"
  },
  "language_info": {
   "codemirror_mode": {
    "name": "ipython",
    "version": 3
   },
   "file_extension": ".py",
   "mimetype": "text/x-python",
   "name": "python",
   "nbconvert_exporter": "python",
   "pygments_lexer": "ipython3",
   "version": "3.7.6"
  },
  "varInspector": {
   "cols": {
    "lenName": 16,
    "lenType": 16,
    "lenVar": 40
   },
   "kernels_config": {
    "python": {
     "delete_cmd_postfix": "",
     "delete_cmd_prefix": "del ",
     "library": "var_list.py",
     "varRefreshCmd": "print(var_dic_list())"
    },
    "r": {
     "delete_cmd_postfix": ") ",
     "delete_cmd_prefix": "rm(",
     "library": "var_list.r",
     "varRefreshCmd": "cat(var_dic_list()) "
    }
   },
   "types_to_exclude": [
    "module",
    "function",
    "builtin_function_or_method",
    "instance",
    "_Feature"
   ],
   "window_display": false
  }
 },
 "nbformat": 4,
 "nbformat_minor": 4
}
