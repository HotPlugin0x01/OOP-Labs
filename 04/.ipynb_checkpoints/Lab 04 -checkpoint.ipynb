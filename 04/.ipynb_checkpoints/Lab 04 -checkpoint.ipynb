{
 "cells": [
  {
   "cell_type": "code",
   "execution_count": 4,
   "metadata": {
    "ExecuteTime": {
     "end_time": "2020-06-05T14:47:15.229922Z",
     "start_time": "2020-06-05T14:47:15.213920Z"
    }
   },
   "outputs": [
    {
     "name": "stdout",
     "output_type": "stream",
     "text": [
      "Software Engineering\n",
      "80\n"
     ]
    }
   ],
   "source": [
    "# Example 01\n",
    "class CSStudent:\n",
    "    dept = 'Software Engineering'   # class variable\n",
    "    \n",
    "    def __init__(self, roll_num):\n",
    "        self.roll_num = roll_num\n",
    "\n",
    "student1 = CSStudent(80)\n",
    "print(student1.dept)\n",
    "print(student1.roll_num)"
   ]
  },
  {
   "cell_type": "code",
   "execution_count": 10,
   "metadata": {
    "ExecuteTime": {
     "end_time": "2020-06-05T14:54:44.436067Z",
     "start_time": "2020-06-05T14:54:44.412078Z"
    }
   },
   "outputs": [
    {
     "name": "stdout",
     "output_type": "stream",
     "text": [
      "Software Engineering\n",
      "Gulshan-e-Iqbal\n",
      "Computer Science\n",
      "Saddar\n"
     ]
    }
   ],
   "source": [
    "# Example 02\n",
    "class CSStudent:\n",
    "    dept1 = 'Software Engineering'\n",
    "    dept2 = 'Computer Science'\n",
    "    \n",
    "    def __init__(self, roll):\n",
    "        self.roll = roll\n",
    "\n",
    "    def setAddress(self, address):\n",
    "        self.address = address\n",
    "\n",
    "    def getAddress(self):\n",
    "        return self.address\n",
    "\n",
    "student2 = CSStudent(80) \n",
    "print(student2.dept1)\n",
    "student2.setAddress(\"Gulshan-e-Iqbal\") \n",
    "print(student2.getAddress())\n",
    "\n",
    "student3 = CSStudent(90)\n",
    "print(student3.dept2)\n",
    "student3.setAddress('Saddar')\n",
    "print(student3.getAddress())"
   ]
  },
  {
   "cell_type": "code",
   "execution_count": 12,
   "metadata": {
    "ExecuteTime": {
     "end_time": "2020-06-05T14:56:33.965835Z",
     "start_time": "2020-06-05T14:56:33.941828Z"
    }
   },
   "outputs": [
    {
     "name": "stdout",
     "output_type": "stream",
     "text": [
      "5\n",
      "10\n"
     ]
    },
    {
     "ename": "AttributeError",
     "evalue": "'MyClass' object has no attribute '__hiddenVar'",
     "output_type": "error",
     "traceback": [
      "\u001b[1;31m---------------------------------------------------------------------------\u001b[0m",
      "\u001b[1;31mAttributeError\u001b[0m                            Traceback (most recent call last)",
      "\u001b[1;32m<ipython-input-12-1b9fa24e8bab>\u001b[0m in \u001b[0;36m<module>\u001b[1;34m\u001b[0m\n\u001b[0;32m     11\u001b[0m \u001b[0mob1\u001b[0m\u001b[1;33m.\u001b[0m\u001b[0madd\u001b[0m\u001b[1;33m(\u001b[0m\u001b[1;36m5\u001b[0m\u001b[1;33m)\u001b[0m\u001b[1;33m\u001b[0m\u001b[1;33m\u001b[0m\u001b[0m\n\u001b[0;32m     12\u001b[0m \u001b[0mob1\u001b[0m\u001b[1;33m.\u001b[0m\u001b[0madd\u001b[0m\u001b[1;33m(\u001b[0m\u001b[1;36m5\u001b[0m\u001b[1;33m)\u001b[0m\u001b[1;33m\u001b[0m\u001b[1;33m\u001b[0m\u001b[0m\n\u001b[1;32m---> 13\u001b[1;33m \u001b[0mprint\u001b[0m\u001b[1;33m(\u001b[0m\u001b[0mob1\u001b[0m\u001b[1;33m.\u001b[0m\u001b[0m__hiddenVar\u001b[0m\u001b[1;33m)\u001b[0m\u001b[1;33m\u001b[0m\u001b[1;33m\u001b[0m\u001b[0m\n\u001b[0m",
      "\u001b[1;31mAttributeError\u001b[0m: 'MyClass' object has no attribute '__hiddenVar'"
     ]
    }
   ],
   "source": [
    "# Example 03\n",
    "# access modifiers (private attributes)\n",
    "class MyClass:\n",
    "    __hiddenVar = 0\n",
    "\n",
    "    def add(self, increment):\n",
    "        self.__hiddenVar += increment\n",
    "        print (self.__hiddenVar)\n",
    "\n",
    "ob1 = MyClass() \n",
    "ob1.add(5) \n",
    "ob1.add(5)\n",
    "print(ob1.__hiddenVar)"
   ]
  },
  {
   "cell_type": "markdown",
   "metadata": {},
   "source": [
    "__The above result gives error because we cannot access private attribute directly__"
   ]
  },
  {
   "cell_type": "code",
   "execution_count": 15,
   "metadata": {
    "ExecuteTime": {
     "end_time": "2020-06-05T15:02:15.587811Z",
     "start_time": "2020-06-05T15:02:15.571807Z"
    }
   },
   "outputs": [
    {
     "name": "stdout",
     "output_type": "stream",
     "text": [
      "20\n"
     ]
    }
   ],
   "source": [
    "# Example 04\n",
    "class MyClass:\n",
    "    __hiddenVar = 20\n",
    "    \n",
    "ob1 = MyClass()\n",
    "print(ob1._MyClass__hiddenVar)  # Accessing Private attribute"
   ]
  },
  {
   "cell_type": "code",
   "execution_count": 19,
   "metadata": {
    "ExecuteTime": {
     "end_time": "2020-06-05T15:09:58.092938Z",
     "start_time": "2020-06-05T15:09:58.076932Z"
    }
   },
   "outputs": [
    {
     "name": "stdout",
     "output_type": "stream",
     "text": [
      "Assalam o Alekum, my name is Abdul Wassay and my age is 18 and i am a Student\n"
     ]
    }
   ],
   "source": [
    "# Example 05\n",
    "class Person:\n",
    "    def __init__(a, name, age, profession):\n",
    "        a.name = name\n",
    "        a.age = age\n",
    "        a.profession = profession\n",
    "\n",
    "    def mydetail(a):\n",
    "        return (\"Assalam o Alekum, my name is \" + a.name +\" and my age is \" + str(a.age) +\n",
    "                ' and i am a ' + a.profession)\n",
    "\n",
    "p1 = Person(\"Abdul Wassay\", 18, \"Student\")\n",
    "print(p1.mydetail())"
   ]
  },
  {
   "cell_type": "code",
   "execution_count": 26,
   "metadata": {
    "ExecuteTime": {
     "end_time": "2020-06-05T15:14:59.291201Z",
     "start_time": "2020-06-05T15:14:59.267192Z"
    }
   },
   "outputs": [
    {
     "name": "stdout",
     "output_type": "stream",
     "text": [
      "Before modifying attributes:\n",
      "Assalam o Alekum, my name is Abdul Wassay, my age is 18 and i am student\n",
      "\n",
      "After modifying attributes:\n",
      "Assalam o Alekum, my name is S.Faisal Ali, my age is 55 and i am Asst.Professor\n"
     ]
    }
   ],
   "source": [
    "# Example 06\n",
    "class Person:\n",
    "    def __init__(a, name, age, profession):\n",
    "        a.name = name\n",
    "        a.age = age\n",
    "        a.profession = profession\n",
    "\n",
    "    def mydetail(a):\n",
    "        return (\"Assalam o Alekum, my name is \" + a.name +\", my age is \" + str(a.age) +\n",
    "                ' and i am ' + a.profession)\n",
    "\n",
    "p2 = Person(\"Abdul Wassay\", 18, \"student\")\n",
    "print('Before modifying attributes:')\n",
    "print(p2.mydetail())\n",
    "\n",
    "print('\\nAfter modifying attributes:')\n",
    "p2.name = 'S.Faisal Ali'\n",
    "p2.age = 55\n",
    "p2.profession = 'Asst.Professor'\n",
    "print(p2.mydetail())"
   ]
  },
  {
   "cell_type": "code",
   "execution_count": 30,
   "metadata": {
    "ExecuteTime": {
     "end_time": "2020-06-05T15:22:25.678852Z",
     "start_time": "2020-06-05T15:22:25.662849Z"
    }
   },
   "outputs": [
    {
     "name": "stdout",
     "output_type": "stream",
     "text": [
      "Calling child constructor\n",
      "Calling child method\n",
      "Calling parent method\n",
      "Parent attribute : 200\n"
     ]
    }
   ],
   "source": [
    "# Example 07\n",
    "class Parent:\n",
    "    parentAttr = 20\n",
    "    def __init__(self):\n",
    "        print (\"Calling parent constructor\")\n",
    "    def parentMethod(self):\n",
    "        print ('Calling parent method')\n",
    "    def setAttr(self, attr):\n",
    "        Parent.parentAttr = attr\n",
    "    def getAttr(self):\n",
    "        print (\"Parent attribute :\", Parent.parentAttr)\n",
    "\n",
    "class Child(Parent):\n",
    "    def __init__(self):\n",
    "        print (\"Calling child constructor\")\n",
    "    def childMethod(self):\n",
    "        print ('Calling child method')\n",
    "\n",
    "c1 = Child()\n",
    "c1.childMethod()\n",
    "c1.parentMethod()\n",
    "c1.setAttr(200)\n",
    "c1.getAttr()"
   ]
  },
  {
   "cell_type": "code",
   "execution_count": 41,
   "metadata": {
    "ExecuteTime": {
     "end_time": "2020-06-05T16:09:08.635256Z",
     "start_time": "2020-06-05T16:09:08.619245Z"
    }
   },
   "outputs": [],
   "source": [
    "# Task 02\n",
    "class Shape:\n",
    "    def __init__(self, color=None):\n",
    "        self.color = color\n",
    "    def setColor(self, color):\n",
    "        self.color = color\n",
    "    def getColor(self):\n",
    "        return self.color\n",
    "\n",
    "class Circle(Shape):\n",
    "    def __init__(self, radius=1):\n",
    "        self.radius = radius\n",
    "    def setRadius(self, radius):\n",
    "        self.radius = radius\n",
    "    def getRadius(self):\n",
    "        return self.radius\n",
    "    def getArea(self):\n",
    "        return (3.14 * (self.radius**2))\n",
    "    def getCircumference(self):\n",
    "        return (2 * (3.14 * self.radius))\n",
    "    \n",
    "class Rectangle(Shape):\n",
    "    def __init__(self, length=1, width=2):\n",
    "        self.length = length\n",
    "        self.width = width\n",
    "    def setLength(self, length):\n",
    "        self.length = length\n",
    "    def getLength(self):\n",
    "        return self.length\n",
    "    def setWidth(self, width):\n",
    "        self.width = width\n",
    "    def getWidth(self):\n",
    "        return self.width\n",
    "    def getArea(self):\n",
    "        return (self.length * self.width)\n",
    "    def getPerimeter(self):\n",
    "        return (2 * (self.length + self.width))"
   ]
  },
  {
   "cell_type": "code",
   "execution_count": 43,
   "metadata": {
    "ExecuteTime": {
     "end_time": "2020-06-05T16:10:17.398507Z",
     "start_time": "2020-06-05T16:10:17.391502Z"
    }
   },
   "outputs": [
    {
     "name": "stdout",
     "output_type": "stream",
     "text": [
      "Color: Orange\n",
      "Radius 30\n",
      "Area 2826.0\n",
      "Circumference: 188.4\n"
     ]
    }
   ],
   "source": [
    "# Circle\n",
    "c1 = Circle()\n",
    "c1.setColor('Orange')\n",
    "c1.setRadius(30)\n",
    "print('Color:', c1.getColor())\n",
    "print('Radius', c1.getRadius())\n",
    "print('Area', c1.getArea())\n",
    "print('Circumference:', c1.getCircumference())"
   ]
  },
  {
   "cell_type": "code",
   "execution_count": 45,
   "metadata": {
    "ExecuteTime": {
     "end_time": "2020-06-05T16:11:14.355922Z",
     "start_time": "2020-06-05T16:11:14.344915Z"
    }
   },
   "outputs": [
    {
     "name": "stdout",
     "output_type": "stream",
     "text": [
      "Color: Blue\n",
      "Length: 20\n",
      "Width: 40\n",
      "Area: 800\n",
      "Perimeter: 120\n"
     ]
    }
   ],
   "source": [
    "# Rectangle\n",
    "r1 = Rectangle()\n",
    "r1.setColor('Blue')\n",
    "r1.setLength(20)\n",
    "r1.setWidth(40)\n",
    "print('Color:', r1.getColor())\n",
    "print('Length:', r1.getLength())\n",
    "print('Width:', r1.getWidth())\n",
    "print('Area:', r1.getArea())\n",
    "print('Perimeter:', r1.getPerimeter())"
   ]
  },
  {
   "cell_type": "code",
   "execution_count": 15,
   "metadata": {
    "ExecuteTime": {
     "end_time": "2020-06-05T17:32:49.851464Z",
     "start_time": "2020-06-05T17:32:49.838454Z"
    }
   },
   "outputs": [],
   "source": [
    "# Task 03\n",
    "class Courses:\n",
    "    def __init__(self):\n",
    "        self.courses_list = []\n",
    "\n",
    "    def enrollCourses(self, *courses):\n",
    "        for course in courses:\n",
    "            self.courses_list.append(course)\n",
    "            \n",
    "    def removeCourses(self, *courses):\n",
    "        for course in courses:\n",
    "            self.courses_list.remove(course)\n",
    "            \n",
    "    def getCourses(self):\n",
    "        return self.courses_list        \n",
    "    \n",
    "class CSProgram(Courses):\n",
    "    def __init__(self, name, roll):\n",
    "        self.name = name\n",
    "        self.roll = roll\n",
    "        Courses.__init__(self)\n",
    "\n",
    "    def details(self):\n",
    "        print(f'Name: {self.name}\\nRoll No. {self.roll}\\nEnrolled Courses: {self.courses_list}')\n",
    "\n",
    "class SEProgram(Courses):\n",
    "    def __init__(self, name, roll):\n",
    "        self.name = name\n",
    "        self.roll = roll\n",
    "        Courses.__init__(self)\n",
    "\n",
    "    def details(self):\n",
    "        print(f'Name: {self.name}\\nRoll No. {self.roll}\\nEnrolled Courses: {self.courses_list}')"
   ]
  },
  {
   "cell_type": "code",
   "execution_count": 20,
   "metadata": {
    "ExecuteTime": {
     "end_time": "2020-06-05T17:41:07.820592Z",
     "start_time": "2020-06-05T17:41:07.814587Z"
    }
   },
   "outputs": [
    {
     "name": "stdout",
     "output_type": "stream",
     "text": [
      "Name: Ali\n",
      "Roll No. 36\n",
      "Enrolled Courses: ['English', 'Electronics', 'Programing', 'Calculus']\n"
     ]
    }
   ],
   "source": [
    "cs1 = CSProgram('Ali',36)\n",
    "cs1.enrollCourses('English', 'Electronics', 'Programing', 'Calculus')\n",
    "cs1.details()"
   ]
  },
  {
   "cell_type": "code",
   "execution_count": 21,
   "metadata": {
    "ExecuteTime": {
     "end_time": "2020-06-05T17:41:09.816736Z",
     "start_time": "2020-06-05T17:41:09.810713Z"
    }
   },
   "outputs": [
    {
     "name": "stdout",
     "output_type": "stream",
     "text": [
      "Name: Abdul Wassay\n",
      "Roll No. 80\n",
      "Enrolled Courses: ['Electronics', 'Programing', 'Calculus']\n"
     ]
    }
   ],
   "source": [
    "se1 = SEProgram('Abdul Wassay',80)\n",
    "se1.enrollCourses('Electronics', 'Programing', 'Calculus')\n",
    "se1.details()"
   ]
  },
  {
   "cell_type": "code",
   "execution_count": 41,
   "metadata": {
    "ExecuteTime": {
     "end_time": "2020-06-05T19:07:50.776721Z",
     "start_time": "2020-06-05T19:07:50.744717Z"
    }
   },
   "outputs": [],
   "source": [
    "# Task 04\n",
    "class Bike:  \n",
    "    def __init__(self, name, engine, suspension, transmission, wheels, price):\n",
    "        self.name = name\n",
    "        self.engine = engine\n",
    "        self.suspension = suspension\n",
    "        self.transmission = transmission\n",
    "        self.wheels = wheels\n",
    "        self.price = price\n",
    "        \n",
    "class X75_Hurricane(Bike):\n",
    "    def __init__(self,name,engine,suspension,transmission,wheels,price):\n",
    "        Bike.__init__(self, name, engine, suspension, transmission, wheels, price)\n",
    "        \n",
    "    def details(self):\n",
    "        print(\"The name of Bike is:\", self.name)\n",
    "        print(\"The engine of SuperHawk is:\", self.engine)\n",
    "        print(\"The suspension of SuperHawk is:\", self.suspension)\n",
    "        print(\"The transmission of SuperHawk is:\", self.transmission)\n",
    "        print(\"The wheels of SuperHawk is:\", self.wheels)\n",
    "        print(\"The price of SuperHawk is:\", self.price)\n",
    "\n",
    "class SuperHawk(Bike):\n",
    "    def __init__(self,name,engine,suspension,transmission,wheels,price):\n",
    "        Bike.__init__(self, name, engine, suspension, transmission, wheels, price)\n",
    "\n",
    "        \n",
    "    def details_SuperHawk(self):\n",
    "        print(\"The name of Bike is:\", self.name)\n",
    "        print(\"The engine of SuperHawk is:\", self.engine)\n",
    "        print(\"The suspension of SuperHawk is:\", self.suspension)\n",
    "        print(\"The transmission of SuperHawk is:\", self.transmission)\n",
    "        print(\"The wheels of SuperHawk is:\", self.wheels)\n",
    "        print(\"The price of SuperHawk is:\", self.price)\n",
    "        \n",
    "class Venom(Bike):\n",
    "    def __init__(self,name,engine,suspension,transmission,wheels,price):\n",
    "        Bike.__init__(self, name, engine, suspension, transmission, wheels, price)\n",
    "        \n",
    "    def details_Venom(self):\n",
    "        print(\"The name of Bike is:\", self.name)\n",
    "        print(\"The engine of Venom is:\", self.engine)\n",
    "        print(\"The suspension of Venom is:\", self.suspension)\n",
    "        print(\"The transmission of Venom is:\", self.transmission)\n",
    "        print(\"The wheels of Venom is:\", self.wheels)\n",
    "        print(\"The price of Venom is:\", self.price)"
   ]
  },
  {
   "cell_type": "code",
   "execution_count": 42,
   "metadata": {
    "ExecuteTime": {
     "end_time": "2020-06-05T19:07:51.272772Z",
     "start_time": "2020-06-05T19:07:51.256753Z"
    }
   },
   "outputs": [
    {
     "name": "stdout",
     "output_type": "stream",
     "text": [
      "The name of Bike is: X 75 Hurricane\n",
      "The engine of SuperHawk is:  USMC M1030 M1\n",
      "The suspension of SuperHawk is: fork tubes\n",
      "The transmission of SuperHawk is: Manual\n",
      "The wheels of SuperHawk is: Wire Wheel\n",
      "The price of SuperHawk is: 2 lac\n"
     ]
    }
   ],
   "source": [
    "bike1 = X75_Hurricane(\"X 75 Hurricane\",\" USMC M1030 M1\",\"fork tubes\",\"Manual\",\"Wire Wheel\",\"2 lac\")\n",
    "bike1.details()"
   ]
  },
  {
   "cell_type": "code",
   "execution_count": 45,
   "metadata": {
    "ExecuteTime": {
     "end_time": "2020-06-05T19:08:13.374874Z",
     "start_time": "2020-06-05T19:08:13.358856Z"
    }
   },
   "outputs": [
    {
     "name": "stdout",
     "output_type": "stream",
     "text": [
      "The name of Bike is: Super Hawk\n",
      "The engine of SuperHawk is: Chevrolet V8 engine\n",
      "The suspension of SuperHawk is: Back tubes\n",
      "The transmission of SuperHawk is: AUTOMATIC\n",
      "The wheels of SuperHawk is: Wire Wheel\n",
      "The price of SuperHawk is: 5 lac\n"
     ]
    }
   ],
   "source": [
    "bike2 = SuperHawk(\"Super Hawk\",\"Chevrolet V8 engine\",\"Back tubes\",\"AUTOMATIC\",\"Wire Wheel\",\"5 lac\")\n",
    "bike2.details_SuperHawk()"
   ]
  },
  {
   "cell_type": "code",
   "execution_count": 46,
   "metadata": {
    "ExecuteTime": {
     "end_time": "2020-06-05T19:08:17.317657Z",
     "start_time": "2020-06-05T19:08:17.301659Z"
    }
   },
   "outputs": [
    {
     "name": "stdout",
     "output_type": "stream",
     "text": [
      "The name of Bike is: Venom\n",
      "The engine of Venom is: Wankel engine\n",
      "The suspension of Venom is: Rear suspension\n",
      "The transmission of Venom is: Manual through clutch\n",
      "The wheels of Venom is: One piece Wheel\n",
      "The price of Venom is: 1.5 lac\n"
     ]
    }
   ],
   "source": [
    "bike3 = Venom(\"Venom\",\"Wankel engine\",\"Rear suspension\",\"Manual through clutch\",\"One piece Wheel\",\"1.5 lac\")\n",
    "bike3.details_Venom()"
   ]
  }
 ],
 "metadata": {
  "kernelspec": {
   "display_name": "Python 3",
   "language": "python",
   "name": "python3"
  },
  "language_info": {
   "codemirror_mode": {
    "name": "ipython",
    "version": 3
   },
   "file_extension": ".py",
   "mimetype": "text/x-python",
   "name": "python",
   "nbconvert_exporter": "python",
   "pygments_lexer": "ipython3",
   "version": "3.7.3"
  },
  "varInspector": {
   "cols": {
    "lenName": 16,
    "lenType": 16,
    "lenVar": 40
   },
   "kernels_config": {
    "python": {
     "delete_cmd_postfix": "",
     "delete_cmd_prefix": "del ",
     "library": "var_list.py",
     "varRefreshCmd": "print(var_dic_list())"
    },
    "r": {
     "delete_cmd_postfix": ") ",
     "delete_cmd_prefix": "rm(",
     "library": "var_list.r",
     "varRefreshCmd": "cat(var_dic_list()) "
    }
   },
   "types_to_exclude": [
    "module",
    "function",
    "builtin_function_or_method",
    "instance",
    "_Feature"
   ],
   "window_display": false
  }
 },
 "nbformat": 4,
 "nbformat_minor": 2
}
