{
 "cells": [
  {
   "cell_type": "code",
   "execution_count": 7,
   "metadata": {
    "ExecuteTime": {
     "end_time": "2020-06-30T19:50:09.433791Z",
     "start_time": "2020-06-30T19:50:09.425788Z"
    }
   },
   "outputs": [],
   "source": [
    "# Exercise 01\n",
    "from abc import ABC, abstractmethod\n",
    "class Polygon(ABC):\n",
    "    def noofsides(self):\n",
    "        pass\n",
    "\n",
    "class Triangle(Polygon):\n",
    "    def noofsides(self):\n",
    "        print(\"I have 3 sides\")\n",
    "\n",
    "class Pentagon(Polygon):\n",
    "    def noofsides(self):\n",
    "        print(\"I have 5 sides\")\n",
    "\n",
    "class Hexagon(Polygon):\n",
    "    def noofsides(self): \n",
    "        print(\"I have 6 sides\")\n",
    "\n",
    "class Quadrilateral(Polygon):\n",
    "    def noofsides(self):\n",
    "        print(\"I have 4 sides\")"
   ]
  },
  {
   "cell_type": "code",
   "execution_count": 8,
   "metadata": {
    "ExecuteTime": {
     "end_time": "2020-06-30T19:50:19.986011Z",
     "start_time": "2020-06-30T19:50:19.977008Z"
    }
   },
   "outputs": [
    {
     "name": "stdout",
     "output_type": "stream",
     "text": [
      "I have 3 sides\n",
      "I have 4 sides\n",
      "I have 5 sides\n",
      "I have 6 sides\n"
     ]
    }
   ],
   "source": [
    "# Driver code\n",
    "R = Triangle()\n",
    "R.noofsides()\n",
    "\n",
    "K = Quadrilateral()\n",
    "K.noofsides()\n",
    "\n",
    "R = Pentagon()\n",
    "R.noofsides()\n",
    "\n",
    "K = Hexagon()\n",
    "K.noofsides()"
   ]
  },
  {
   "cell_type": "code",
   "execution_count": 9,
   "metadata": {
    "ExecuteTime": {
     "end_time": "2020-06-30T19:51:46.153576Z",
     "start_time": "2020-06-30T19:51:46.143571Z"
    }
   },
   "outputs": [],
   "source": [
    "# Exercise 02\n",
    "from abc import ABC, abstractmethod\n",
    "class Animal(ABC):\n",
    "    def move(self):\n",
    "        pass\n",
    "\n",
    "class Snake(Animal):\n",
    "    def move(self):\n",
    "        print(\"I can crawl\")\n",
    "\n",
    "class Dog(Animal):\n",
    "    def move(self): \n",
    "        print(\"I can bark\")\n",
    "\n",
    "class Lion(Animal):\n",
    "    def move(self):\n",
    "        print(\"I can roar\")"
   ]
  },
  {
   "cell_type": "code",
   "execution_count": 10,
   "metadata": {
    "ExecuteTime": {
     "end_time": "2020-06-30T19:51:57.506831Z",
     "start_time": "2020-06-30T19:51:57.498824Z"
    }
   },
   "outputs": [
    {
     "name": "stdout",
     "output_type": "stream",
     "text": [
      "I can crawl\n",
      "I can bark\n",
      "I can roar\n"
     ]
    }
   ],
   "source": [
    "# Driver code\n",
    "K = Snake()\n",
    "K.move()\n",
    "\n",
    "R = Dog()\n",
    "R.move()\n",
    "\n",
    "K = Lion()\n",
    "K.move()"
   ]
  },
  {
   "cell_type": "code",
   "execution_count": 11,
   "metadata": {
    "ExecuteTime": {
     "end_time": "2020-06-30T19:53:04.425266Z",
     "start_time": "2020-06-30T19:53:04.419265Z"
    }
   },
   "outputs": [],
   "source": [
    "# Exercise 03\n",
    "from abc import ABC, abstractmethod\n",
    "class Person(ABC):\n",
    "    def ShowName(self):\n",
    "        print(\"Abstract Base Class\")\n",
    "        \n",
    "class Student(Person):\n",
    "    def ShowName(self):\n",
    "        super().ShowName()\n",
    "        print(\"subclass \")"
   ]
  },
  {
   "cell_type": "code",
   "execution_count": 12,
   "metadata": {
    "ExecuteTime": {
     "end_time": "2020-06-30T19:53:07.452973Z",
     "start_time": "2020-06-30T19:53:07.448973Z"
    }
   },
   "outputs": [
    {
     "name": "stdout",
     "output_type": "stream",
     "text": [
      "Abstract Base Class\n",
      "subclass \n"
     ]
    }
   ],
   "source": [
    "# Driver code\n",
    "S1 = Student()\n",
    "S1.ShowName()"
   ]
  },
  {
   "cell_type": "code",
   "execution_count": 16,
   "metadata": {
    "ExecuteTime": {
     "end_time": "2020-06-30T20:01:51.284843Z",
     "start_time": "2020-06-30T20:01:51.272833Z"
    }
   },
   "outputs": [],
   "source": [
    "# Task 02\n",
    "from abc import ABC, abstractmethod\n",
    "# Abstract Class\n",
    "class Bank(ABC):\n",
    "    def AccountName(self): pass\n",
    "\n",
    "    def rateofinterest(self): pass\n",
    "        \n",
    "    def deposit(self): pass\n",
    "        \n",
    "    def withdraw(self): pass\n",
    "    \n",
    "# Derived Class\n",
    "class Person(Bank):\n",
    "    def AccountName(self):\n",
    "        print('Saving Account')\n",
    "\n",
    "    def rateofinterest(self):\n",
    "        print(\"Rate of interest is 10%\")\n",
    "        \n",
    "    def deposit(self):\n",
    "        print(\"Depositing Money\")\n",
    "        \n",
    "    def withdraw(self):\n",
    "        print(\"Withdrawing Cash\")"
   ]
  },
  {
   "cell_type": "code",
   "execution_count": 17,
   "metadata": {
    "ExecuteTime": {
     "end_time": "2020-06-30T20:01:51.584124Z",
     "start_time": "2020-06-30T20:01:51.578123Z"
    }
   },
   "outputs": [
    {
     "name": "stdout",
     "output_type": "stream",
     "text": [
      "Saving Account\n",
      "Rate of interest is 10%\n",
      "Depositing Money\n",
      "Withdrawing Cash\n"
     ]
    }
   ],
   "source": [
    "# Driver Code\n",
    "person1 = Person()\n",
    "person1.AccountName()\n",
    "person1.rateofinterest()\n",
    "person1.deposit()\n",
    "person1.withdraw()"
   ]
  },
  {
   "cell_type": "code",
   "execution_count": 3,
   "metadata": {
    "ExecuteTime": {
     "end_time": "2020-06-30T19:46:44.353678Z",
     "start_time": "2020-06-30T19:46:44.340668Z"
    }
   },
   "outputs": [],
   "source": [
    "# Task 03\n",
    "# Abstract Class\n",
    "class Robot(ABC):\n",
    "    @abstractmethod\n",
    "    def obeyOrder(self): pass\n",
    "    \n",
    "    @abstractmethod\n",
    "    def doCleaning(self): pass\n",
    "\n",
    "# Derived Classes\n",
    "class Cook(Robot):\n",
    "    def obeyOrder(self):\n",
    "        print('Cook Robot is cooking.')\n",
    "    def doCleaning(self):\n",
    "        print('Cook Robot is cleaning kitchen.')\n",
    "    def cooking(self, dish):\n",
    "        print(f'Robot is cooking {dish}.')\n",
    "    def baking(self):\n",
    "        print('Robot is baking cookies.')\n",
    "        \n",
    "class Gardener(Robot):\n",
    "    def obeyOrder(self):\n",
    "        print('Robot is gardening.')\n",
    "    def doCleaning(self):\n",
    "        print('Robot is cleaning garden.')\n",
    "    def planting(self, plant):\n",
    "        print(f'Robot is planting {plant}.')\n",
    "    def watering(self):\n",
    "        print('Robot is watering plants.')\n",
    "        \n",
    "class Driver(Robot):\n",
    "    def obeyOrder(self):\n",
    "        print('Robot is driving.')\n",
    "    def doCleaning(self):\n",
    "        print('Robot is cleaning the vehicle.')\n",
    "    def drive(self, speed_status):\n",
    "        print(f'Robot is driving {speed_status}.')\n",
    "    def driveTo(self, destination):\n",
    "        print(f'Robot is driving to {destination}')"
   ]
  },
  {
   "cell_type": "code",
   "execution_count": 6,
   "metadata": {
    "ExecuteTime": {
     "end_time": "2020-06-30T19:47:14.221050Z",
     "start_time": "2020-06-30T19:47:14.213047Z"
    }
   },
   "outputs": [
    {
     "name": "stdout",
     "output_type": "stream",
     "text": [
      "Cook Robot is cooking.\n",
      "Robot is cooking fish.\n",
      "Robot is cleaning garden.\n",
      "Robot is planting sun flowers.\n",
      "Robot is cleaning the vehicle.\n",
      "Robot is driving to Clifton\n"
     ]
    }
   ],
   "source": [
    "# Driver Code\n",
    "cook = Cook()\n",
    "cook.obeyOrder()\n",
    "cook.cooking('fish')\n",
    "\n",
    "gardener = Gardener()\n",
    "gardener.doCleaning()\n",
    "gardener.planting('sun flowers')\n",
    "\n",
    "driver = Driver()\n",
    "driver.doCleaning()\n",
    "driver.driveTo('Clifton')"
   ]
  }
 ],
 "metadata": {
  "kernelspec": {
   "display_name": "Python 3",
   "language": "python",
   "name": "python3"
  },
  "language_info": {
   "codemirror_mode": {
    "name": "ipython",
    "version": 3
   },
   "file_extension": ".py",
   "mimetype": "text/x-python",
   "name": "python",
   "nbconvert_exporter": "python",
   "pygments_lexer": "ipython3",
   "version": "3.7.6"
  },
  "varInspector": {
   "cols": {
    "lenName": 16,
    "lenType": 16,
    "lenVar": 40
   },
   "kernels_config": {
    "python": {
     "delete_cmd_postfix": "",
     "delete_cmd_prefix": "del ",
     "library": "var_list.py",
     "varRefreshCmd": "print(var_dic_list())"
    },
    "r": {
     "delete_cmd_postfix": ") ",
     "delete_cmd_prefix": "rm(",
     "library": "var_list.r",
     "varRefreshCmd": "cat(var_dic_list()) "
    }
   },
   "types_to_exclude": [
    "module",
    "function",
    "builtin_function_or_method",
    "instance",
    "_Feature"
   ],
   "window_display": false
  }
 },
 "nbformat": 4,
 "nbformat_minor": 4
}
