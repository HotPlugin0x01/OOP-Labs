{
 "cells": [
  {
   "cell_type": "code",
   "execution_count": 1,
   "metadata": {},
   "outputs": [],
   "source": [
    "#6-6-2020"
   ]
  },
  {
   "cell_type": "markdown",
   "metadata": {},
   "source": [
    "# Practice Problem 1"
   ]
  },
  {
   "cell_type": "code",
   "execution_count": 2,
   "metadata": {},
   "outputs": [
    {
     "name": "stdout",
     "output_type": "stream",
     "text": [
      "My name is  hamza\n",
      "20\n",
      "My name is  shahnoor\n",
      "19\n"
     ]
    }
   ],
   "source": [
    "class Boy:\n",
    "    name = 'hamza'\n",
    "    gender = 'Male'\n",
    "    age = 20\n",
    "\n",
    "class Girl:\n",
    "    name = 'shahnoor'\n",
    "    gender = 'Female'\n",
    "    age = 19\n",
    "\n",
    "hamza = Boy()\n",
    "haris = Boy()\n",
    "shahnoor = Girl()\n",
    "anny = Girl()\n",
    "\n",
    "print(\"My name is \",hamza.name)\n",
    "print(hamza.age)\n",
    "print(\"My name is \",shahnoor.name)\n",
    "print(shahnoor.age)"
   ]
  },
  {
   "cell_type": "markdown",
   "metadata": {},
   "source": [
    "# Practice Problem 2"
   ]
  },
  {
   "cell_type": "code",
   "execution_count": 3,
   "metadata": {},
   "outputs": [
    {
     "name": "stdout",
     "output_type": "stream",
     "text": [
      "Number of instances : 1\n",
      "Number of instance :2\n",
      "Number of instance :3\n",
      "Number of instance :3\n",
      "Number of instance :3\n"
     ]
    }
   ],
   "source": [
    "class POS:\n",
    "    counter = 0 \n",
    "    def __init__(self):\n",
    "        type(self).counter += 1\n",
    "    def _del_(self):\n",
    "        type(self).counter -= 1\n",
    "        \n",
    "if __name__ == '__main__':\n",
    "    x1 = POS()\n",
    "    print(\"Number of instances : \"+ str(POS.counter))\n",
    "    x2 = POS()\n",
    "    print(\"Number of instance :\" + str(POS.counter))\n",
    "    x3 = POS()\n",
    "    print(\"Number of instance :\" + str(POS.counter))\n",
    "    del x2 \n",
    "    print(\"Number of instance :\" + str(POS.counter))\n",
    "    del x1\n",
    "    print(\"Number of instance :\" + str(POS.counter))"
   ]
  },
  {
   "cell_type": "markdown",
   "metadata": {},
   "source": [
    "# Practice Problem 3"
   ]
  },
  {
   "cell_type": "code",
   "execution_count": 4,
   "metadata": {},
   "outputs": [
    {
     "name": "stdout",
     "output_type": "stream",
     "text": [
      "Jack Fish can swim backward.\n",
      "Nimo Fish can swim.\n"
     ]
    }
   ],
   "source": [
    "class Fish:\n",
    "    def __init__(self, first_name, last_name = \"fish\"):\n",
    "        self.first_name = first_name\n",
    "        self.last_name = last_name\n",
    "        \n",
    "    def swim(self):\n",
    "        print(self.first_name, \"Fish can swim.\")\n",
    "        \n",
    "    def swim_backward(self):\n",
    "        print(self.first_name, \"Fish can swim backward.\")\n",
    "        \n",
    "fish_jack = Fish('Jack')\n",
    "fish_jack.swim_backward()\n",
    "fish_nimo = Fish('Nimo')\n",
    "fish_nimo.swim()"
   ]
  },
  {
   "cell_type": "markdown",
   "metadata": {},
   "source": [
    "# Practice Problem 4"
   ]
  },
  {
   "cell_type": "code",
   "execution_count": 5,
   "metadata": {},
   "outputs": [],
   "source": [
    "class Fish:\n",
    "    def __init__(self, first_name, last_name = \"fish\", skeleton = 'bone', eyelids = False):\n",
    "        self.first_name = first_name\n",
    "        self.last_name = last_name\n",
    "        self.skeleton = skeleton\n",
    "        self.eyelids = eyelids\n",
    "        \n",
    "        \n",
    "    def swim(self):\n",
    "        print(self.first_name, \"Fish can swim.\\nSkeleton: \",self.skeleton, '\\neyelids: ',self.eyelids)\n",
    "        print(10*'_')\n",
    "        \n",
    "    def swim_backward(self):\n",
    "        print(self.first_name, \"Fish can swim backward.\\nSkeleton: \",self.skeleton, '\\neyelids: ',self.eyelids)\n",
    "        print(10*'_')"
   ]
  },
  {
   "cell_type": "markdown",
   "metadata": {},
   "source": [
    "# Practice Problem 5"
   ]
  },
  {
   "cell_type": "code",
   "execution_count": 6,
   "metadata": {},
   "outputs": [
    {
     "name": "stdout",
     "output_type": "stream",
     "text": [
      "Jack Fish can swim backward.\n",
      "Skeleton:  bone \n",
      "eyelids:  False\n",
      "__________\n",
      "Nimo Fish can swim.\n",
      "Skeleton:  bone \n",
      "eyelids:  False\n",
      "__________\n"
     ]
    }
   ],
   "source": [
    "class Nimo(Fish):\n",
    "    pass\n",
    "class Jack(Fish):\n",
    "    pass\n",
    "\n",
    "fish_jack = Fish('Jack')\n",
    "fish_jack.swim_backward()\n",
    "fish_nimo = Fish('Nimo')\n",
    "fish_nimo.swim()"
   ]
  },
  {
   "cell_type": "markdown",
   "metadata": {},
   "source": [
    "# Practice Problem 6"
   ]
  },
  {
   "cell_type": "code",
   "execution_count": 7,
   "metadata": {},
   "outputs": [
    {
     "name": "stdout",
     "output_type": "stream",
     "text": [
      "The Clownfish is coexisting with sea anemone.\n"
     ]
    }
   ],
   "source": [
    "class Clownfish(Fish):\n",
    "    print(\"The Clownfish is coexisting with sea anemone.\")\n",
    "    "
   ]
  },
  {
   "cell_type": "markdown",
   "metadata": {},
   "source": [
    "# Practice Problem 7"
   ]
  },
  {
   "cell_type": "code",
   "execution_count": 8,
   "metadata": {},
   "outputs": [
    {
     "name": "stdout",
     "output_type": "stream",
     "text": [
      "Sammy Shark\n",
      "The Shark cannot swim backwards, but can sink backwards.\n",
      "Sammy Fish can swim backward.\n",
      "Skeleton:  cartilage \n",
      "eyelids:  True\n",
      "__________\n",
      "True\n",
      "cartilage\n"
     ]
    }
   ],
   "source": [
    "class Shark(Fish):\n",
    "    def __init__(self,first_name, last_name =\"Shark\", skeleton = 'cartilage', eyelids = True):\n",
    "        self.first_name = first_name\n",
    "        self.last_name = last_name\n",
    "        self.skeleton = skeleton\n",
    "        self.eyelids = eyelids\n",
    "        \n",
    "    def swim(self):\n",
    "        print(\"The Shark cannot swim backwards, but can sink backwards.\")\n",
    "        \n",
    "sammy = Shark('Sammy')\n",
    "print(sammy.first_name + ' ' + sammy.last_name)\n",
    "sammy.swim()\n",
    "sammy.swim_backward()\n",
    "print(sammy.eyelids)\n",
    "print(sammy.skeleton)"
   ]
  },
  {
   "cell_type": "markdown",
   "metadata": {},
   "source": [
    "# Practice Problem 8"
   ]
  },
  {
   "cell_type": "code",
   "execution_count": 9,
   "metadata": {},
   "outputs": [],
   "source": [
    "class Trout(Fish):\n",
    "    def __init__(self, water = 'fresh water'):\n",
    "        self.water = water\n",
    "        super().__init__(self)"
   ]
  },
  {
   "cell_type": "markdown",
   "metadata": {},
   "source": [
    "# Practice Problem 9"
   ]
  },
  {
   "cell_type": "code",
   "execution_count": 10,
   "metadata": {},
   "outputs": [
    {
     "name": "stdout",
     "output_type": "stream",
     "text": [
      "Terry fish\n",
      "False\n",
      "fresh water\n",
      "Terry Fish can swim.\n",
      "Skeleton:  bone \n",
      "eyelids:  False\n",
      "__________\n"
     ]
    }
   ],
   "source": [
    "terry = Trout()\n",
    "terry.first_name = 'Terry'\n",
    "print(terry.first_name + ' ' + terry.last_name)\n",
    "#using parent __init__\n",
    "print(terry.eyelids)\n",
    "#using child __init__\n",
    "print(terry.water)\n",
    "#using parent __init__\n",
    "terry.swim()"
   ]
  },
  {
   "cell_type": "markdown",
   "metadata": {},
   "source": [
    "# Practice Problem 10"
   ]
  },
  {
   "cell_type": "code",
   "execution_count": 11,
   "metadata": {},
   "outputs": [
    {
     "name": "stdout",
     "output_type": "stream",
     "text": [
      "Coral lives in a community\n",
      "The annemone is protecting Clown Fishes\n"
     ]
    }
   ],
   "source": [
    "#multiple inheritance\n",
    "class Coral:\n",
    "    def community(self):\n",
    "        print(\"Coral lives in a community\")\n",
    "class Anemone:\n",
    "    def protect_clownfish(self):\n",
    "        print(\"The annemone is protecting Clown Fishes\")\n",
    "        \n",
    "class CoralReef(Coral, Anemone):\n",
    "    pass\n",
    "#creating objects\n",
    "barrier = CoralReef()\n",
    "#calling methods()\n",
    "barrier.community()\n",
    "barrier.protect_clownfish()"
   ]
  },
  {
   "cell_type": "markdown",
   "metadata": {},
   "source": [
    "\n",
    "# Task 1:"
   ]
  },
  {
   "cell_type": "code",
   "execution_count": 12,
   "metadata": {},
   "outputs": [],
   "source": [
    "class PIA:\n",
    "    def __init__(self,passenger_id,passenger_name,seat_no):\n",
    "        self.passenger_id = passenger_id\n",
    "        self.passenger_name = passenger_name\n",
    "        self.seat_no = seat_no\n",
    "    def airplane_details(self):\n",
    "        print(8*'_'*8)\n",
    "        print(\"About Airplane\")\n",
    "    def pia_details(self):\n",
    "        print(8*'_'*8)\n",
    "        print(\"Your id: \",self.passenger_id, \"\\nName :\", self.passenger_name.title(), \"\\nSeat #: \",self.seat_no,)\n",
    "        print(8*'-'*8)"
   ]
  },
  {
   "cell_type": "code",
   "execution_count": 13,
   "metadata": {},
   "outputs": [],
   "source": [
    "class Shaheen:\n",
    "    def __init__(self,plane_class,flight_time,special_discount):\n",
    "        PIA.__init__(self,passenger_id,passenger_name,seat_no)\n",
    "        self.plane_class = plane_class\n",
    "        self.flight_time = flight_time\n",
    "        self.special_discount = special_discount\n",
    "    def shaheen_details(self):\n",
    "        print(\"\\nClass: \",self.plane_class, \"\\nSpeacial 'Shaheen Airways' Discount: \",self.special_discount,\"\\nTimings: \",self.flight_time)\n",
    "        print(8*'_'*8)"
   ]
  },
  {
   "cell_type": "code",
   "execution_count": 14,
   "metadata": {},
   "outputs": [],
   "source": [
    "class Airplane(Shaheen,PIA):\n",
    "    def __init__(self,passenger_id,passenger_name,seat_no,plane_class,flight_time,special_discount):\n",
    "        self.passenger_id = passenger_id\n",
    "        self.passenger_name = passenger_name\n",
    "        self.seat_no = seat_no\n",
    "        self.plane_class = plane_class\n",
    "        self.flight_time = flight_time\n",
    "        self.special_discount = special_discount\n",
    "        \n",
    "    def a_info(self):\n",
    "        super().airplane_details()"
   ]
  },
  {
   "cell_type": "code",
   "execution_count": 15,
   "metadata": {},
   "outputs": [
    {
     "ename": "TypeError",
     "evalue": "__init__() missing 6 required positional arguments: 'passenger_id', 'passenger_name', 'seat_no', 'plane_class', 'flight_time', and 'special_discount'",
     "output_type": "error",
     "traceback": [
      "\u001b[1;31m---------------------------------------------------------------------------\u001b[0m",
      "\u001b[1;31mTypeError\u001b[0m                                 Traceback (most recent call last)",
      "\u001b[1;32m<ipython-input-15-16a19e63e9fa>\u001b[0m in \u001b[0;36m<module>\u001b[1;34m\u001b[0m\n\u001b[1;32m----> 1\u001b[1;33m \u001b[0mobj\u001b[0m \u001b[1;33m=\u001b[0m \u001b[0mAirplane\u001b[0m\u001b[1;33m(\u001b[0m\u001b[1;33m)\u001b[0m\u001b[1;33m\u001b[0m\u001b[1;33m\u001b[0m\u001b[0m\n\u001b[0m\u001b[0;32m      2\u001b[0m \u001b[0mobj\u001b[0m\u001b[1;33m.\u001b[0m\u001b[0ma_info\u001b[0m\u001b[1;33m(\u001b[0m\u001b[1;33m)\u001b[0m\u001b[1;33m\u001b[0m\u001b[1;33m\u001b[0m\u001b[0m\n\u001b[0;32m      3\u001b[0m \u001b[0mobj\u001b[0m\u001b[1;33m.\u001b[0m\u001b[0mpia_details\u001b[0m\u001b[1;33m(\u001b[0m\u001b[1;33m)\u001b[0m\u001b[1;33m\u001b[0m\u001b[1;33m\u001b[0m\u001b[0m\n\u001b[0;32m      4\u001b[0m \u001b[0mobj\u001b[0m\u001b[1;33m.\u001b[0m\u001b[0mshaheen_details\u001b[0m\u001b[1;33m(\u001b[0m\u001b[1;33m)\u001b[0m\u001b[1;33m\u001b[0m\u001b[1;33m\u001b[0m\u001b[0m\n",
      "\u001b[1;31mTypeError\u001b[0m: __init__() missing 6 required positional arguments: 'passenger_id', 'passenger_name', 'seat_no', 'plane_class', 'flight_time', and 'special_discount'"
     ]
    }
   ],
   "source": [
    "obj = Airplane()\n",
    "obj.a_info()\n",
    "obj.pia_details()\n",
    "obj.shaheen_details()"
   ]
  },
  {
   "cell_type": "markdown",
   "metadata": {},
   "source": [
    "# TASK 3:"
   ]
  },
  {
   "cell_type": "code",
   "execution_count": 18,
   "metadata": {},
   "outputs": [],
   "source": [
    "class Straight_Umbrella:\n",
    "    def __init__(self,name,color,canopy_size,r_material,s_material):\n",
    "        self.name = name\n",
    "        self.color = color\n",
    "        self.canopy_size = canopy_size\n",
    "        self.r_material = r_material\n",
    "        self.s_material = s_material\n",
    "    def s_info(self):\n",
    "        print(8*'_'*8)\n",
    "        print(\"Lets tak about some kind of Umbrellas !!\")\n",
    "        print(8*'-'*8)\n",
    "    def s_umb(self):\n",
    "        print(8*'-'*8)\n",
    "        print(\"Name :\",self.name)\n",
    "        print(\"Color : \",self.color)\n",
    "        print(\"Canopy size :\",self.canopy_size)\n",
    "        print(\"Ribs material :\",self.r_material)\n",
    "        print(\"Shaft material\",self.s_material)\n",
    "class Foldable_Umbrella(Straight_Umbrella):\n",
    "    def __init__(self,unique):\n",
    "        super().__init__()\n",
    "        self.unique = unique\n",
    "    def f_umb(self):\n",
    "        print(\"Uniqueness :\",self.unique)\n",
    "class Classic_Umbrella(Foldable_Umbrella):\n",
    "    def __init__(self,quality):\n",
    "        super().__init__()\n",
    "        self.quality = quality\n",
    "    def c_umb(self):\n",
    "        print(\"Quality is :\",self.quality)\n",
    "        print(8*'_'*8)\n",
    "        \n",
    "class Umbrella(Classic_Umbrella):\n",
    "    def __init__(self,name,color,canopy_size,r_material,s_material,unique,quality):\n",
    "        self.name = name\n",
    "        self.color = color\n",
    "        self.canopy_size = canopy_size\n",
    "        self.r_material = r_material\n",
    "        self.s_material = s_material\n",
    "        self.unique = unique\n",
    "        self.quality=quality\n",
    "    def umb(self):\n",
    "        super().s_info()"
   ]
  },
  {
   "cell_type": "code",
   "execution_count": 19,
   "metadata": {},
   "outputs": [
    {
     "name": "stdout",
     "output_type": "stream",
     "text": [
      "________________________________________________________________\n",
      "Lets tak about some kind of Umbrellas !!\n",
      "----------------------------------------------------------------\n",
      "----------------------------------------------------------------\n",
      "Name : codex\n",
      "Color :  navy-blue\n",
      "Canopy size : 23\n",
      "Ribs material : aluminium\n",
      "Shaft material PVC\n",
      "Uniqueness : water-resistant\n",
      "Quality is : guaranteed\n",
      "________________________________________________________________\n",
      "----------------------------------------------------------------\n",
      "Name : regix\n",
      "Color :  sky-blue\n",
      "Canopy size : 16\n",
      "Ribs material : iron\n",
      "Shaft material rubber\n",
      "Uniqueness : wind-proof\n",
      "Quality is : extremely nice\n",
      "________________________________________________________________\n"
     ]
    }
   ],
   "source": [
    "obj2 = Umbrella(\"codex\",\"navy-blue\",\"23\",\"aluminium\",\"PVC\",\"water-resistant\",\"guaranteed\")\n",
    "obj2.umb()\n",
    "obj2.s_umb()\n",
    "obj2.f_umb()\n",
    "obj2.c_umb()\n",
    "obj3 = Umbrella(\"regix\",\"sky-blue\",\"16\",\"iron\",\"rubber\",\"wind-proof\",\"extremely nice\")\n",
    "obj3.s_umb()\n",
    "obj3.f_umb()\n",
    "obj3.c_umb()"
   ]
  },
  {
   "cell_type": "code",
   "execution_count": null,
   "metadata": {},
   "outputs": [],
   "source": []
  }
 ],
 "metadata": {
  "kernelspec": {
   "display_name": "Python 3",
   "language": "python",
   "name": "python3"
  },
  "language_info": {
   "codemirror_mode": {
    "name": "ipython",
    "version": 3
   },
   "file_extension": ".py",
   "mimetype": "text/x-python",
   "name": "python",
   "nbconvert_exporter": "python",
   "pygments_lexer": "ipython3",
   "version": "3.7.3"
  },
  "varInspector": {
   "cols": {
    "lenName": 16,
    "lenType": 16,
    "lenVar": 40
   },
   "kernels_config": {
    "python": {
     "delete_cmd_postfix": "",
     "delete_cmd_prefix": "del ",
     "library": "var_list.py",
     "varRefreshCmd": "print(var_dic_list())"
    },
    "r": {
     "delete_cmd_postfix": ") ",
     "delete_cmd_prefix": "rm(",
     "library": "var_list.r",
     "varRefreshCmd": "cat(var_dic_list()) "
    }
   },
   "types_to_exclude": [
    "module",
    "function",
    "builtin_function_or_method",
    "instance",
    "_Feature"
   ],
   "window_display": false
  }
 },
 "nbformat": 4,
 "nbformat_minor": 2
}
