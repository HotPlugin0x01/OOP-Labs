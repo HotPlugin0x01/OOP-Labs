{
 "cells": [
  {
   "cell_type": "code",
   "execution_count": 6,
   "metadata": {
    "ExecuteTime": {
     "end_time": "2020-06-12T15:59:19.846065Z",
     "start_time": "2020-06-12T15:59:19.822061Z"
    },
    "scrolled": true
   },
   "outputs": [
    {
     "name": "stdout",
     "output_type": "stream",
     "text": [
      "My name is Ali\n",
      "Male\n",
      "50\n",
      "My name is Aqsa\n",
      "Female\n",
      "20\n"
     ]
    }
   ],
   "source": [
    "# Example 01\n",
    "class Boy:\n",
    "    name =\"\"\n",
    "    gender =\"Male\"\n",
    "    age = 20\n",
    "\n",
    "class Girl:\n",
    "    name =\"\"\n",
    "    gender =\"Female\"\n",
    "    age = 18\n",
    "    \n",
    "Ali = Boy()\n",
    "Aqsa = Girl()\n",
    "\n",
    "print('My name is Ali')\n",
    "print(Ali.gender)\n",
    "Ali.age = 50\n",
    "print(Ali.age)\n",
    "\n",
    "print('My name is Aqsa')\n",
    "print(Aqsa.gender)\n",
    "Aqsa.age = 20\n",
    "print(Aqsa.age)"
   ]
  },
  {
   "cell_type": "code",
   "execution_count": 22,
   "metadata": {
    "ExecuteTime": {
     "end_time": "2020-06-12T16:07:53.240965Z",
     "start_time": "2020-06-12T16:07:53.216962Z"
    }
   },
   "outputs": [
    {
     "name": "stdout",
     "output_type": "stream",
     "text": [
      "Number of instances : 1\n",
      "Number of instance :2\n",
      "Number of instance :3\n",
      "Number of instance :2\n",
      "Number of instance :1\n"
     ]
    }
   ],
   "source": [
    "# Example 02\n",
    "class POS:\n",
    "    count = 0\n",
    "    def __init__(self):\n",
    "        type(self).count += 1\n",
    "    def __del__(self):\n",
    "        type(self).count -= 1\n",
    "\n",
    "if __name__ == '__main__':\n",
    "    x1 = POS()\n",
    "    print(\"Number of instances : \"+ str(POS.count))\n",
    "    x2 = POS()\n",
    "    print(\"Number of instance :\" + str(POS.count))\n",
    "    x3 = POS()\n",
    "    print(\"Number of instance :\" + str(POS.count))\n",
    "    del x2 \n",
    "    print(\"Number of instance :\" + str(POS.count))\n",
    "    del x1\n",
    "    print(\"Number of instance :\" + str(POS.count))"
   ]
  },
  {
   "cell_type": "code",
   "execution_count": 25,
   "metadata": {
    "ExecuteTime": {
     "end_time": "2020-06-12T16:13:56.151906Z",
     "start_time": "2020-06-12T16:13:56.135903Z"
    }
   },
   "outputs": [
    {
     "name": "stdout",
     "output_type": "stream",
     "text": [
      "Nimo Fish is swimming.\n",
      "Nimo Fish can swim backwards.\n"
     ]
    }
   ],
   "source": [
    "# Example 03\n",
    "class Fish:\n",
    "    def __init__(self, f_name, l_name='Fish'):\n",
    "        self.f_name = f_name\n",
    "        self.l_name = l_name\n",
    "    def swim(self):\n",
    "        print(f'{self.f_name} Fish is swimming.')\n",
    "    def swim_back(self):\n",
    "        print(f'{self.f_name} Fish can swim backwards.')\n",
    "        \n",
    "nimo = Fish('Nimo')\n",
    "nimo.swim()\n",
    "nimo.swim_back()"
   ]
  },
  {
   "cell_type": "code",
   "execution_count": 26,
   "metadata": {
    "ExecuteTime": {
     "end_time": "2020-06-12T16:17:57.420939Z",
     "start_time": "2020-06-12T16:17:57.404935Z"
    }
   },
   "outputs": [
    {
     "name": "stdout",
     "output_type": "stream",
     "text": [
      "Nimo Fish is swimming.\n",
      "Nimo Fish can swim backwards.\n"
     ]
    }
   ],
   "source": [
    "# Example 04\n",
    "class Fish:\n",
    "    def __init__(self, f_name, l_name='Fish', skeleton='Bone', eye_lids=False):\n",
    "        self.f_name = f_name\n",
    "        self.l_name = l_name\n",
    "        self.skeleton = skeleton\n",
    "        self.eye_lids = eye_lids\n",
    "    def swim(self):\n",
    "        print(f'{self.f_name} Fish is swimming.')\n",
    "    def swim_back(self):\n",
    "        print(f'{self.f_name} Fish can swim backwards.')\n",
    "\n",
    "nimo = Fish('Nimo', skeleton='cartilage', eye_lids=True)\n",
    "nimo.swim()\n",
    "nimo.swim_back()"
   ]
  },
  {
   "cell_type": "code",
   "execution_count": 31,
   "metadata": {
    "ExecuteTime": {
     "end_time": "2020-06-12T16:21:20.905043Z",
     "start_time": "2020-06-12T16:21:20.889021Z"
    }
   },
   "outputs": [
    {
     "name": "stdout",
     "output_type": "stream",
     "text": [
      "Terry Fish\n",
      "Cartilage\n",
      "True\n",
      "Terry Fish is swimming.\n",
      "Terry Fish can swim backwards.\n"
     ]
    }
   ],
   "source": [
    "# Example 05\n",
    "class Trout(Fish):\n",
    "    pass\n",
    "terry = Trout(f_name='Terry', skeleton='Cartilage', eye_lids=True)\n",
    "print(terry.f_name, terry.l_name)\n",
    "print(terry.skeleton)\n",
    "print(terry.eye_lids)\n",
    "terry.swim()\n",
    "terry.swim_back()"
   ]
  },
  {
   "cell_type": "code",
   "execution_count": 34,
   "metadata": {
    "ExecuteTime": {
     "end_time": "2020-06-12T16:32:14.824869Z",
     "start_time": "2020-06-12T16:32:14.808865Z"
    }
   },
   "outputs": [
    {
     "name": "stdout",
     "output_type": "stream",
     "text": [
      "Clown Fish is swimming.\n",
      "Clown Fish can swim backwards.\n",
      "ClownFish is coexisting with sea anemone.\n"
     ]
    }
   ],
   "source": [
    "# Example 06\n",
    "class ClownFish(Fish):\n",
    "    def live(self):\n",
    "        print(f'{self.f_name}Fish is coexisting with sea anemone.')\n",
    "\n",
    "clown = ClownFish(f_name='Clown')\n",
    "clown.swim()\n",
    "clown.swim_back()\n",
    "clown.live()"
   ]
  },
  {
   "cell_type": "code",
   "execution_count": 36,
   "metadata": {
    "ExecuteTime": {
     "end_time": "2020-06-12T16:37:51.109890Z",
     "start_time": "2020-06-12T16:37:51.093888Z"
    }
   },
   "outputs": [
    {
     "name": "stdout",
     "output_type": "stream",
     "text": [
      "Sammy Fish\n",
      "Cartilage\n",
      "False\n",
      "Sammy Fish is swimming.\n",
      "Sammy shark cannot swim backwards, but can sink backwards.\n"
     ]
    }
   ],
   "source": [
    "# Example 07\n",
    "class Shark(Fish):\n",
    "    def init (self, f_name, l_name=\"Shark\", skeleton=None, eye_lids=True):\n",
    "        self.f_name = f_name\n",
    "        self.l_name = l_name\n",
    "        self.skeleton = skeleton\n",
    "        self.eye_lids = eye_lids\n",
    "    def swim_back(self):\n",
    "        print(f'{self.f_name} shark cannot swim backwards, but can sink backwards.')\n",
    "\n",
    "sammy = Shark(f_name='Sammy', skeleton='Cartilage')\n",
    "print(sammy.f_name, sammy.l_name)\n",
    "print(sammy.skeleton)\n",
    "print(sammy.eye_lids)\n",
    "sammy.swim()\n",
    "sammy.swim_back()         # Overridden Method"
   ]
  },
  {
   "cell_type": "code",
   "execution_count": 38,
   "metadata": {
    "ExecuteTime": {
     "end_time": "2020-06-12T16:44:30.714502Z",
     "start_time": "2020-06-12T16:44:30.698496Z"
    }
   },
   "outputs": [
    {
     "name": "stdout",
     "output_type": "stream",
     "text": [
      "Terry Fish\n",
      "Bone\n",
      "False\n",
      "FreshWater\n",
      "Terry Fish is swimming.\n"
     ]
    }
   ],
   "source": [
    "# Example 08\n",
    "class Trout(Fish):\n",
    "    def __init__(self, water='FreshWater'):\n",
    "        self.water = water\n",
    "        super().__init__(self)\n",
    "\n",
    "terry = Trout()\n",
    "terry.f_name = 'Terry'\n",
    "print(terry.f_name, terry.l_name)\n",
    "print(terry.skeleton)\n",
    "print(terry.eye_lids)\n",
    "print(terry.water)\n",
    "terry.swim()"
   ]
  },
  {
   "cell_type": "code",
   "execution_count": 39,
   "metadata": {
    "ExecuteTime": {
     "end_time": "2020-06-12T16:48:56.853901Z",
     "start_time": "2020-06-12T16:48:56.837878Z"
    }
   },
   "outputs": [
    {
     "name": "stdout",
     "output_type": "stream",
     "text": [
      "Coral lives in a community.\n",
      "The anemone is protecting the clownfish.\n"
     ]
    }
   ],
   "source": [
    "# Example 09\n",
    "class Coral:\n",
    "    def community(self):\n",
    "        print(\"Coral lives in a community.\")\n",
    "\n",
    "class Anemone:\n",
    "    def protect_clownfish(self):\n",
    "        print(\"The anemone is protecting the clownfish.\")\n",
    "\n",
    "class CoralReef(Coral, Anemone):\n",
    "    pass\n",
    "\n",
    "barrier = CoralReef()\n",
    "barrier.community()\n",
    "barrier.protect_clownfish()"
   ]
  },
  {
   "cell_type": "code",
   "execution_count": 61,
   "metadata": {
    "ExecuteTime": {
     "end_time": "2020-06-12T17:10:38.687241Z",
     "start_time": "2020-06-12T17:10:38.671236Z"
    }
   },
   "outputs": [],
   "source": [
    "# Task 02\n",
    "class Passenger_Plane:\n",
    "    def __init__(self, name, flight_num, capacity):\n",
    "        self.name = name\n",
    "        self.flight_num = flight_num\n",
    "        self.capacity = capacity\n",
    "    def get_details(self):\n",
    "        print(f'Flight Name: {self.name}\\nFlight Number: {self.flight_num}\\nCapacity: {self.capacity}')\n",
    "    def book_seat(self):\n",
    "        self.seat = True\n",
    "\n",
    "class Fighter_Plane:\n",
    "    def __init__(self, name):\n",
    "        self.name = name\n",
    "    def get_name(self):\n",
    "        return self.name\n",
    "    def isfighter(self):\n",
    "        return True\n",
    "    \n",
    "class Plane(Passenger_Plane, Fighter_Plane):\n",
    "    def __init__(self, name, flight_num=None, capacity=None):\n",
    "        Passenger_Plane.__init__(self, name, flight_num, capacity)\n",
    "    def get_details(self):\n",
    "        super().get_details()"
   ]
  },
  {
   "cell_type": "code",
   "execution_count": 62,
   "metadata": {
    "ExecuteTime": {
     "end_time": "2020-06-12T17:11:45.544399Z",
     "start_time": "2020-06-12T17:11:45.528375Z"
    }
   },
   "outputs": [
    {
     "name": "stdout",
     "output_type": "stream",
     "text": [
      "Flight Name: PIA\n",
      "Flight Number: PK-123\n",
      "Capacity: 300\n",
      "JF-17 Thunder\n",
      "It is Fighter: True\n"
     ]
    }
   ],
   "source": [
    "pia = Plane('PIA', 'PK-123', 300)\n",
    "pia.get_details()\n",
    "\n",
    "jf = Plane('JF-17 Thunder')\n",
    "print(jf.get_name())\n",
    "print('It is Fighter:', jf.isfighter())"
   ]
  },
  {
   "cell_type": "code",
   "execution_count": 84,
   "metadata": {
    "ExecuteTime": {
     "end_time": "2020-06-12T17:40:17.654471Z",
     "start_time": "2020-06-12T17:40:17.638467Z"
    }
   },
   "outputs": [],
   "source": [
    "# Task 03\n",
    "class Umbrella:\n",
    "    def __init__(self, use, color, size, material, price):\n",
    "        self.use = use\n",
    "        self.color = color\n",
    "        self.size = size\n",
    "        self.material = material\n",
    "        self.price = price\n",
    "    def get_price(self):\n",
    "        return self.price\n",
    "        \n",
    "class Rain_Umbrella(Umbrella):\n",
    "    def __init__(self, use, color, size, material, price):\n",
    "        Umbrella.__init__(self, use, color, size, material, price)\n",
    "    def get_use(self):\n",
    "        return self.use\n",
    "\n",
    "class Sun_Umbrella(Rain_Umbrella, Umbrella):\n",
    "    def __init__(self, use, color, size, material, price):\n",
    "        super().__init__(use, color, size, material, price)\n",
    "    def get_materialUsed(self):\n",
    "        return self.material"
   ]
  },
  {
   "cell_type": "code",
   "execution_count": 87,
   "metadata": {
    "ExecuteTime": {
     "end_time": "2020-06-12T17:41:24.473955Z",
     "start_time": "2020-06-12T17:41:24.457948Z"
    }
   },
   "outputs": [
    {
     "name": "stdout",
     "output_type": "stream",
     "text": [
      "100\n",
      "Sunlight\n",
      "Used Material: Fabrique\n"
     ]
    }
   ],
   "source": [
    "sun = Sun_Umbrella(use='Sunlight', color='Black', size='Medium',material='Fabrique', price=100)\n",
    "print(sun.get_price())\n",
    "print(sun.get_use())\n",
    "print('Used Material:', sun.get_materialUsed())"
   ]
  }
 ],
 "metadata": {
  "kernelspec": {
   "display_name": "Python 3",
   "language": "python",
   "name": "python3"
  },
  "language_info": {
   "codemirror_mode": {
    "name": "ipython",
    "version": 3
   },
   "file_extension": ".py",
   "mimetype": "text/x-python",
   "name": "python",
   "nbconvert_exporter": "python",
   "pygments_lexer": "ipython3",
   "version": "3.7.3"
  },
  "varInspector": {
   "cols": {
    "lenName": 16,
    "lenType": 16,
    "lenVar": 40
   },
   "kernels_config": {
    "python": {
     "delete_cmd_postfix": "",
     "delete_cmd_prefix": "del ",
     "library": "var_list.py",
     "varRefreshCmd": "print(var_dic_list())"
    },
    "r": {
     "delete_cmd_postfix": ") ",
     "delete_cmd_prefix": "rm(",
     "library": "var_list.r",
     "varRefreshCmd": "cat(var_dic_list()) "
    }
   },
   "types_to_exclude": [
    "module",
    "function",
    "builtin_function_or_method",
    "instance",
    "_Feature"
   ],
   "window_display": false
  }
 },
 "nbformat": 4,
 "nbformat_minor": 2
}
