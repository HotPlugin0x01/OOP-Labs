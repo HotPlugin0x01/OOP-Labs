{
 "cells": [
  {
   "cell_type": "markdown",
   "metadata": {},
   "source": [
    "# TASK 2"
   ]
  },
  {
   "cell_type": "code",
   "execution_count": 6,
   "metadata": {},
   "outputs": [
    {
     "name": "stdout",
     "output_type": "stream",
     "text": [
      "-----------------------------\n",
      "Name of passenger is: Imran\n",
      "Flight name: Flt-210\n",
      "Flight timing: 22:50\n",
      "Destination: Karachi\n",
      "-----------------------------\n"
     ]
    }
   ],
   "source": [
    "class AirlineTravlers:\n",
    "    def __init__(self,destination,time):\n",
    "        self.time=time\n",
    "        self.destination=destination\n",
    "    def result(self):    \n",
    "        print(\"-----------------------------\")\n",
    "\n",
    "class Passenger:\n",
    "    def __init__(self,name,flight):\n",
    "        self.name=name\n",
    "        self.flight=flight\n",
    "        \n",
    "class Airblue(Passenger,AirlineTravlers):\n",
    "    def __init__(self,destination,time,name,flight):\n",
    "        AirlineTravlers.__init__(self,destination,time)\n",
    "        Passenger.__init__(self,name,flight)\n",
    "        super().result()\n",
    "    \n",
    "    def gettingdetails(self):\n",
    "        print(\"Name of passenger is:\", self.name)\n",
    "        print(\"Flight name:\",self.flight)\n",
    "        print(\"Flight timing:\", self.time)\n",
    "        print(\"Destination:\", self.destination)\n",
    "        print(\"-----------------------------\")\n",
    "        \n",
    "#Making objects\n",
    "Pass1=Airblue(\"Karachi\",\"22:50\",\"Imran\",\"Flt-210\")\n",
    "Pass1.gettingdetails()"
   ]
  },
  {
   "cell_type": "markdown",
   "metadata": {},
   "source": [
    "# TASK 3"
   ]
  },
  {
   "cell_type": "code",
   "execution_count": 6,
   "metadata": {},
   "outputs": [
    {
     "name": "stdout",
     "output_type": "stream",
     "text": [
      "This umbrella is used for: Rain\n",
      "Its color is: Black\n",
      "It has: Camo Print\n",
      "Its size is: Medium\n",
      "It can be use by all Male, Female, Kids\n",
      "-----------------------------\n"
     ]
    }
   ],
   "source": [
    "class Umbrella:\n",
    "    def __init__(self,use,color,prints,size):\n",
    "        self.use=use\n",
    "        self.color=color\n",
    "        self.prints=prints\n",
    "        self.size=size      \n",
    "        \n",
    "class RainUmbrella(Umbrella):\n",
    "    def __init__(self,use,color,prints,size):\n",
    "        self.use=use\n",
    "        self.color=color\n",
    "        self.prints=prints\n",
    "        self.size=size\n",
    "        \n",
    "    def gettingdetails1(self):\n",
    "        print(\"This umbrella is used for:\",self.use)\n",
    "        print(\"Its color is:\",self.color)\n",
    "        print(\"It has:\", self.prints)\n",
    "        print(\"Its size is:\", self.size)\n",
    "        print(\"It can be use by all Male, Female, Kids\")\n",
    "        print(\"-----------------------------\")\n",
    "        \n",
    "        \n",
    "class SnowUmbrella(Umbrella):\n",
    "    def __init__(self,use,color,prints,size):\n",
    "        self.use=use\n",
    "        self.color=color\n",
    "        self.prints=prints\n",
    "        self.size=size\n",
    "        \n",
    "    def gettingdetails2(self):\n",
    "        print(\"This umbrella is used for:\",self.use)\n",
    "        print(\"Its color is:\",self.color)\n",
    "        print(\"It has:\", self.prints)\n",
    "        print(\"Its size is:\", self.size)\n",
    "        print(\"It can be use by all Male, Female, Kids\")\n",
    "        print(\"-----------------------------\")\n",
    "        \n",
    "class SunUmbrella(Umbrella):\n",
    "    def __init__(self,use,color,prints,size):\n",
    "        self.use=use\n",
    "        self.color=color\n",
    "        self.prints=prints\n",
    "        self.size=size\n",
    "        \n",
    "    def gettingdetails3(self):\n",
    "        print(\"This umbrella is used for:\",self.use)\n",
    "        print(\"Its color is:\",self.color)\n",
    "        print(\"It has:\", self.prints)\n",
    "        print(\"Its size is:\", self.size)\n",
    "        print(\"It is only for Kids\")\n",
    "        print(\"-----------------------------\")\n",
    "        \n",
    "#Making Objects of rain Umbrella\n",
    "Umb1=RainUmbrella(\"Rain\",\"Black\",\"Camo Print\",\"Medium\")\n",
    "Umb1.gettingdetails1()"
   ]
  },
  {
   "cell_type": "code",
   "execution_count": 7,
   "metadata": {},
   "outputs": [
    {
     "name": "stdout",
     "output_type": "stream",
     "text": [
      "This umbrella is used for: Snow\n",
      "Its color is: Grey\n",
      "It has: Mosaic Print\n",
      "Its size is: Large\n",
      "It can be use by all Male, Female, Kids\n",
      "-----------------------------\n"
     ]
    }
   ],
   "source": [
    "#Making Objects of Snow Umbrella\n",
    "Umb2=SnowUmbrella(\"Snow\",\"Grey\",\"Mosaic Print\",\"Large\")\n",
    "Umb2.gettingdetails2()"
   ]
  },
  {
   "cell_type": "code",
   "execution_count": 9,
   "metadata": {},
   "outputs": [
    {
     "name": "stdout",
     "output_type": "stream",
     "text": [
      "This umbrella is used for: Sun\n",
      "Its color is: Red\n",
      "It has: Strip Print\n",
      "Its size is: Small\n",
      "It is only for Kids\n",
      "-----------------------------\n"
     ]
    }
   ],
   "source": [
    "#Making Objects of Sun Umbrella\n",
    "Umb2=SunUmbrella(\"Sun\",\"Red\",\"Strip Print\",\"Small\")\n",
    "Umb2.gettingdetails3()"
   ]
  }
 ],
 "metadata": {
  "kernelspec": {
   "display_name": "Python 3",
   "language": "python",
   "name": "python3"
  },
  "language_info": {
   "codemirror_mode": {
    "name": "ipython",
    "version": 3
   },
   "file_extension": ".py",
   "mimetype": "text/x-python",
   "name": "python",
   "nbconvert_exporter": "python",
   "pygments_lexer": "ipython3",
   "version": "3.7.3"
  },
  "varInspector": {
   "cols": {
    "lenName": 16,
    "lenType": 16,
    "lenVar": 40
   },
   "kernels_config": {
    "python": {
     "delete_cmd_postfix": "",
     "delete_cmd_prefix": "del ",
     "library": "var_list.py",
     "varRefreshCmd": "print(var_dic_list())"
    },
    "r": {
     "delete_cmd_postfix": ") ",
     "delete_cmd_prefix": "rm(",
     "library": "var_list.r",
     "varRefreshCmd": "cat(var_dic_list()) "
    }
   },
   "types_to_exclude": [
    "module",
    "function",
    "builtin_function_or_method",
    "instance",
    "_Feature"
   ],
   "window_display": false
  }
 },
 "nbformat": 4,
 "nbformat_minor": 4
}
